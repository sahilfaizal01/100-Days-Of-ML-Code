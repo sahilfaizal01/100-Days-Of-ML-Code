{
  "nbformat": 4,
  "nbformat_minor": 0,
  "metadata": {
    "colab": {
      "provenance": [],
      "toc_visible": true,
      "include_colab_link": true
    },
    "kernelspec": {
      "name": "python3",
      "display_name": "Python 3"
    },
    "language_info": {
      "name": "python"
    }
  },
  "cells": [
    {
      "cell_type": "markdown",
      "metadata": {
        "id": "view-in-github",
        "colab_type": "text"
      },
      "source": [
        "<a href=\"https://colab.research.google.com/github/sahilfaizal01/100-Days-Of-ML-Code/blob/master/Another_copy_of_ML_Preparation.ipynb\" target=\"_parent\"><img src=\"https://colab.research.google.com/assets/colab-badge.svg\" alt=\"Open In Colab\"/></a>"
      ]
    },
    {
      "cell_type": "markdown",
      "source": [
        "### Basics of numpy, CV, NLP\n"
      ],
      "metadata": {
        "id": "A6HXTX8iaHWA"
      }
    },
    {
      "cell_type": "code",
      "source": [
        "import numpy as np\n",
        "# convolution, not optimized, might need to write a version for causal and dilated conv\n",
        "N = 20\n",
        "kernel_size = 3\n",
        "img = np.ones((N,N))\n",
        "kernel = np.arange(1,kernel_size*kernel_size + 1).reshape((kernel_size,-1))\n",
        "output = np.zeros((N-2,N-2))\n",
        "for i in range(1, N-1):\n",
        "    for j in range(1,N-1):\n",
        "        # pivot point is i,j\n",
        "        local = img [i-1:i+2, j-1:j+2]\n",
        "        conv = np.sum(local * kernel)\n",
        "        output[i-1, j-1] = conv\n",
        "print(output.shape)"
      ],
      "metadata": {
        "colab": {
          "base_uri": "https://localhost:8080/"
        },
        "id": "dIXRrXaIaLQN",
        "outputId": "7ff81c7f-484c-4552-d3ea-e2a5a8b1933b"
      },
      "execution_count": null,
      "outputs": [
        {
          "output_type": "stream",
          "name": "stdout",
          "text": [
            "(18, 18)\n"
          ]
        }
      ]
    },
    {
      "cell_type": "markdown",
      "source": [
        "## Torch Operations"
      ],
      "metadata": {
        "id": "hVQE6KFwAYWS"
      }
    },
    {
      "cell_type": "code",
      "source": [
        "import torch\n",
        "import numpy as np\n",
        "# normally we have two ways of representing a sequence of items\n",
        "# say the values are represented by a matrix of (bz, seq_len)\n",
        "bz, seq_len = 3, 3\n",
        "values = torch.arange(bz * seq_len).view(bz,seq_len)\n",
        "# common operations are\n",
        "########## 1. mask operation ##############\n",
        "# a mask of shape (bz, seq_len) is also given\n",
        "mask= torch.ones((bz, seq_len), device=values.device).long()\n",
        "mask[1, 1:] = 0 # make a pseudo mask matrix that mask out part of second sample\n",
        "mask = mask.bool()\n",
        "# now we directly use the boolean mask to update the position\n",
        "values[~mask] = -1\n",
        "print(values)\n",
        "\n",
        "# it is also easy to obtain the sequence length of each sample by sum\n",
        "token_length = mask.sum(dim=-1)\n",
        "# and we can inverse the operation by torch arange with max seq_len\n",
        "max_token_len = token_length.max().item()\n",
        "\n",
        "# use arange to create indice matrix and expand it to batch size\n",
        "new_mask = torch.arange(max_token_len).unsqueeze(0).expand(bz, -1)\n",
        "# then check the length to convert it to original mask\n",
        "new_mask = new_mask < token_length.unsqueeze(0).view(bz, -1)\n",
        "assert torch.equal(new_mask, mask)"
      ],
      "metadata": {
        "id": "ZEB1JimDAcDw",
        "colab": {
          "base_uri": "https://localhost:8080/"
        },
        "outputId": "1b2704de-16d9-415c-f38e-e1ccd58ee905"
      },
      "execution_count": null,
      "outputs": [
        {
          "output_type": "stream",
          "name": "stdout",
          "text": [
            "tensor([[ 0,  1,  2],\n",
            "        [ 3, -1, -1],\n",
            "        [ 6,  7,  8]])\n"
          ]
        }
      ]
    },
    {
      "cell_type": "code",
      "source": [
        "######## 2. Scores Distribution Selection #################\n",
        "# suppose we have a score distribution (could be prob distribution or categorical values)\n",
        "bz, seq_len = 3, 5\n",
        "scores = torch.tensor([1.0,3,5,7,2]).unsqueeze(0).expand(3, -1).clone()\n",
        "# create a pseudo mask\n",
        "mask = torch.ones((bz, seq_len), device=scores.device).long()\n",
        "mask[1, 3:] = 0\n",
        "mask[2, 2:] = 0\n",
        "mask = mask.bool()\n",
        "scores[~mask] = -1\n",
        "print(scores)\n",
        "n_tok = mask.sum(-1)\n",
        "n_tok_exp = (n_tok -1).unsqueeze(1) # (bz,1)\n",
        "print(n_tok_exp)\n",
        "\"\"\"\n",
        "now we can use scatter to write the values of scores along dimension 1\n",
        "scatter_(dim, index, src, reduce=None) means:\n",
        "    self[index[i][j][k]][j][k] = src[i][j][k]  # if dim == 0\n",
        "    self[i][index[i][j][k]][k] = src[i][j][k]  # if dim == 1\n",
        "    self[i][j][index[i][j][k]] = src[i][j][k]  # if dim == 2\n",
        "    note than index and src does not broadcast\n",
        "    see https://pytorch.org/docs/stable/generated/torch.Tensor.scatter_.html#torch.Tensor.scatter_\n",
        "    for more examples\n",
        "    >>> src = torch.arange(1, 11).reshape((2, 5))\n",
        "    tensor([[ 1,  2,  3,  4,  5],\n",
        "            [ 6,  7,  8,  9, 10]])\n",
        "    >>> index = torch.tensor([[0, 1, 2, 0]])\n",
        "    >>> torch.zeros(3, 5, dtype=src.dtype).scatter_(0, index, src)\n",
        "    tensor([[1, 0, 0, 4, 0],\n",
        "            [0, 2, 0, 0, 0],\n",
        "            [0, 0, 3, 0, 0]])\n",
        "\n",
        "    zeros[[index[i][j]][j]] = src[i][j]\n",
        "    when i=j=0, zeros[0,0] = src[0,0] = 1\n",
        "    when i=0, j=1, zeros[1,1] = src[0,1] =2\n",
        "    when i=0, j=2, zeros[2, 2] = src[0,2] = 3\n",
        "    when i=0, j=3, zeros[0, 3] = src[0,3] = 4\n",
        "    This is very powerful, as we basically can scatter the values from src\n",
        "    into self with a customized function over certain dimension\n",
        "\n",
        "    some useful settings:\n",
        "    a = # shape [B, N, k], where B is batch size, N is number of points, k is the index number within [0,V] to select feature.\n",
        "    b = # shape [B, N, k], where B is batch size, N is number of points, k stores here the weights for selected feature.\n",
        "    then we can do weights.scatter_(dim=2, index=a, src=b) which corresponds to\n",
        "    weight[i, j, a[i,j] ] = b[i, j, k] which uses index matrix a to put values from b into the out (weights) matrix\n",
        "\n",
        "\"\"\"\n",
        "\n",
        "\n",
        "\"\"\"\n",
        "    so for our example below, it writes\n",
        "    scores[i][index[i][j]] = src[i][j] = max_value[i][j] = float('inf')\n",
        "    which makes each last position to be maximum values\n",
        "\"\"\"\n",
        "scores = scores.scatter(\n",
        "    1, n_tok_exp,\n",
        "    scores.new_full(n_tok_exp.shape, fill_value=torch.finfo(scores.dtype).max)\n",
        ")\n",
        "\n",
        "print(scores)"
      ],
      "metadata": {
        "colab": {
          "base_uri": "https://localhost:8080/"
        },
        "id": "0iNxPelclUWs",
        "outputId": "988dcd3d-980e-4a87-d3de-51beca2ae299"
      },
      "execution_count": null,
      "outputs": [
        {
          "output_type": "stream",
          "name": "stdout",
          "text": [
            "tensor([[ 1.,  3.,  5.,  7.,  2.],\n",
            "        [ 1.,  3.,  5., -1., -1.],\n",
            "        [ 1.,  3., -1., -1., -1.]])\n",
            "tensor([5, 3, 2])\n",
            "tensor([[4],\n",
            "        [2],\n",
            "        [1]])\n",
            "tensor([[ 1.0000e+00,  3.0000e+00,  5.0000e+00,  7.0000e+00,  3.4028e+38],\n",
            "        [ 1.0000e+00,  3.0000e+00,  3.4028e+38, -1.0000e+00, -1.0000e+00],\n",
            "        [ 1.0000e+00,  3.4028e+38, -1.0000e+00, -1.0000e+00, -1.0000e+00]])\n"
          ]
        }
      ]
    },
    {
      "cell_type": "code",
      "source": [
        "# Torch Index Put\n",
        "\"\"\"\n",
        "Similar to scatter, another commonly used operation is torch.index_put_\n",
        "torch.index_put_(indices, values) is in-place operation that put values\n",
        "into self along the indices\n",
        "\"\"\"\n",
        "\n",
        "# reuse previous code for init\n",
        "bz, seq_len = 3, 5\n",
        "scores = torch.tensor([1.0,3,5,7,2]).unsqueeze(0).expand(3, -1).clone()\n",
        "# create a pseudo mask\n",
        "mask = torch.ones((bz, seq_len), device=scores.device).long()\n",
        "mask[1, 3:] = 0\n",
        "mask[2, 2:] = 0\n",
        "mask = mask.bool()\n",
        "scores[~mask] = -1\n",
        "print(scores)\n",
        "\n",
        "# normally we make a out matric with +1 column for pad\n",
        "out = torch.zeros((bz, 10))\n",
        "# now suppose each of the sample in the batch correspond to a different ranges\n",
        "# in the out matrix, we need index put to customize the indices\n",
        "# here -1 correspond to pad/mask\n",
        "indices = torch.tensor(\n",
        "    [\n",
        "        [2,3,4,5,6],\n",
        "        [3,4,5,-1,-1],\n",
        "        [0,1,-1,-1,-1]\n",
        "    ])\n",
        "print(indices)\n",
        "\n",
        "# the indice here is a tuple of size dim (in this example we have dim=2)\n",
        "out.index_put_(\n",
        "    (\n",
        "        torch.arange(bz).view(-1, 1),\n",
        "        indices\n",
        "    ),\n",
        "    scores\n",
        ")\n",
        "\n",
        "print(out)\n",
        "\n",
        "\n",
        "out = torch.zeros((bz, 10))\n",
        "# the function above can be achieved through scatter_ as well\n",
        "# we only need to specify the index conversion along second dimension\n",
        "# not that scatter does not work with -1 index, so we need to use max_len\n",
        "# to replace the padded position\n",
        "max_len=9\n",
        "indices = torch.tensor(\n",
        "    [\n",
        "        [2,3,4,5,6],\n",
        "        [3,4,5,max_len,max_len],\n",
        "        [0,1,max_len,max_len,max_len]\n",
        "    ])\n",
        "out = out.scatter(\n",
        "    dim=1,\n",
        "    index=indices,\n",
        "    src=scores\n",
        ")\n",
        "print(out)\n",
        "\n",
        "# lastly, index put can also be easily write in advanced indexing format\n",
        "out = torch.zeros((bz, 10))\n",
        "out[torch.arange(bz).view(-1, 1), indices] = scores\n",
        "print(out)"
      ],
      "metadata": {
        "colab": {
          "base_uri": "https://localhost:8080/"
        },
        "id": "Z6I4sH4Xs4fj",
        "outputId": "17cc7a3b-d1a5-471e-c673-ad8bbabad286"
      },
      "execution_count": null,
      "outputs": [
        {
          "output_type": "stream",
          "name": "stdout",
          "text": [
            "tensor([[ 1.,  3.,  5.,  7.,  2.],\n",
            "        [ 1.,  3.,  5., -1., -1.],\n",
            "        [ 1.,  3., -1., -1., -1.]])\n",
            "tensor([[ 2,  3,  4,  5,  6],\n",
            "        [ 3,  4,  5, -1, -1],\n",
            "        [ 0,  1, -1, -1, -1]])\n",
            "tensor([[ 0.,  0.,  1.,  3.,  5.,  7.,  2.,  0.,  0.,  0.],\n",
            "        [ 0.,  0.,  0.,  1.,  3.,  5.,  0.,  0.,  0., -1.],\n",
            "        [ 1.,  3.,  0.,  0.,  0.,  0.,  0.,  0.,  0., -1.]])\n",
            "tensor([[ 0.,  0.,  1.,  3.,  5.,  7.,  2.,  0.,  0.,  0.],\n",
            "        [ 0.,  0.,  0.,  1.,  3.,  5.,  0.,  0.,  0., -1.],\n",
            "        [ 1.,  3.,  0.,  0.,  0.,  0.,  0.,  0.,  0., -1.]])\n",
            "tensor([[ 0.,  0.,  1.,  3.,  5.,  7.,  2.,  0.,  0.,  0.],\n",
            "        [ 0.,  0.,  0.,  1.,  3.,  5.,  0.,  0.,  0., -1.],\n",
            "        [ 1.,  3.,  0.,  0.,  0.,  0.,  0.,  0.,  0., -1.]])\n"
          ]
        }
      ]
    },
    {
      "cell_type": "code",
      "source": [
        "# Torch Gather\n",
        "\"\"\"\n",
        "The previous methods like advance indexing, scatter or indedx_put are all\n",
        "equivalent ways of putting items from certain src matrix to a target output matrix\n",
        "along customized indice matrix. While scatter is the most general form, index put\n",
        "and adavnce indexing are enough for most tasks.\n",
        "\n",
        "\n",
        "Now we look at the inverse operation of scatter -- torch.gather, which is used\n",
        "to retrieve information rather than putting information along some indices and dimension\n",
        "\n",
        "Since we already understand scatter, gather is supper easy. It is simply selecting\n",
        "item based on index matrix along some dimension\n",
        "torch.gather(input, dim, index, *, sparse_grad=False, out=None)\n",
        "out[i][j][k] = input[index[i][j][k]][j][k]  # if dim == 0\n",
        "out[i][j][k] = input[i][index[i][j][k]][k]  # if dim == 1\n",
        "out[i][j][k] = input[i][j][index[i][j][k]]  # if dim == 2\n",
        "\"\"\"\n",
        "t = torch.tensor([[1, 2], [3, 4]])\n",
        "indices = torch.tensor([[0, 0], [1, 0]])\n",
        "out = torch.gather(t, 1, indices)\n",
        "print(t)\n",
        "print(out)\n",
        "\n",
        "\"\"\"\n",
        "more general setting, we have indices that choose the selected representation of\n",
        "each sample, it has shape (B, h). And our input x is all representation of shape\n",
        "(B, N, H). then gather along dim=1 would select out our wanted representation\n",
        "\"\"\"\n",
        "x = torch.arange(3 * 4 * 10).view(3, 4, 10)\n",
        "# print(x)\n",
        "max_len=3 # like scatter, it also does not work with -1 for padding\n",
        "index = torch.tensor([\n",
        "    [0, 1, 2],\n",
        "    [1,2, max_len],\n",
        "    [0,max_len, max_len]\n",
        "])\n",
        "# B, h, H\n",
        "out = torch.gather(x, 1, index.unsqueeze(2).expand(-1,-1,10))\n",
        "print(out)\n",
        "\n",
        "# again, we can do this with advance indexing directly\n",
        "tmp = x[torch.arange(bz).unsqueeze(1), index]\n",
        "tmp.shape"
      ],
      "metadata": {
        "colab": {
          "base_uri": "https://localhost:8080/"
        },
        "id": "FQpPg6Sq1Iix",
        "outputId": "94597b5a-33f4-4ec9-d42d-79a97b62896b"
      },
      "execution_count": null,
      "outputs": [
        {
          "output_type": "stream",
          "name": "stdout",
          "text": [
            "tensor([[1, 2],\n",
            "        [3, 4]])\n",
            "tensor([[1, 1],\n",
            "        [4, 3]])\n",
            "tensor([[[  0,   1,   2,   3,   4,   5,   6,   7,   8,   9],\n",
            "         [ 10,  11,  12,  13,  14,  15,  16,  17,  18,  19],\n",
            "         [ 20,  21,  22,  23,  24,  25,  26,  27,  28,  29]],\n",
            "\n",
            "        [[ 50,  51,  52,  53,  54,  55,  56,  57,  58,  59],\n",
            "         [ 60,  61,  62,  63,  64,  65,  66,  67,  68,  69],\n",
            "         [ 70,  71,  72,  73,  74,  75,  76,  77,  78,  79]],\n",
            "\n",
            "        [[ 80,  81,  82,  83,  84,  85,  86,  87,  88,  89],\n",
            "         [110, 111, 112, 113, 114, 115, 116, 117, 118, 119],\n",
            "         [110, 111, 112, 113, 114, 115, 116, 117, 118, 119]]])\n"
          ]
        },
        {
          "output_type": "execute_result",
          "data": {
            "text/plain": [
              "torch.Size([3, 3, 10])"
            ]
          },
          "metadata": {},
          "execution_count": 79
        }
      ]
    },
    {
      "cell_type": "code",
      "source": [
        "def get_valid_mask_indices(mask: torch.Tensor, padding_value: int = -1) -> torch.Tensor:\n",
        "    \"\"\" helper function for ctc indice selection \"\"\"\n",
        "    assert (\n",
        "            len(mask.shape) <= 2\n",
        "    ), f\"Only supports 1D or 2D tensors - got {len(mask.shape)}.\"\n",
        "    max_valid = mask.sum(dim=-1).max().item()\n",
        "    n_nugget = mask.sum(dim=-1)\n",
        "    # Uses the stable flag to ensure their original order is preserved\n",
        "    sorted_mask, sorted_indices = torch.sort(\n",
        "        mask.float(), dim=-1, descending=True, stable=True\n",
        "    )\n",
        "    valid_indices = (\n",
        "        sorted_indices[:, :max_valid]\n",
        "        if len(mask.shape) == 2\n",
        "        else sorted_indices[:max_valid]\n",
        "    )\n",
        "    valid_indices[\n",
        "        ~(\n",
        "            sorted_mask.bool()[:, :max_valid]\n",
        "            if len(mask.shape) == 2\n",
        "            else sorted_mask.bool()[:max_valid]\n",
        "        )\n",
        "    ] = padding_value\n",
        "    return valid_indices, max_valid, n_nugget\n",
        "\n",
        "mask = torch.tensor([\n",
        "    [1,0,0,1,1],\n",
        "    [1,1,0,0,0],\n",
        "    [0,1,0,1,0]\n",
        "])\n",
        "\"\"\"\n",
        "this function returns the index of non-zeero position of our mask\n",
        "this is useful when mask is no longer continous as in our previous example,\n",
        "so arange with comparison won't work anymore and sorting is required\n",
        "\"\"\"\n",
        "valid_indices, max_valid, n_tok = get_valid_mask_indices(mask)\n",
        "print(valid_indices)\n",
        "print(max_valid, n_tok)"
      ],
      "metadata": {
        "colab": {
          "base_uri": "https://localhost:8080/"
        },
        "id": "5vmI-ZLZwKm9",
        "outputId": "93989b9d-7bc7-4e31-a732-fcde6a0b3ba5"
      },
      "execution_count": null,
      "outputs": [
        {
          "output_type": "stream",
          "name": "stdout",
          "text": [
            "tensor([[ 0,  3,  4],\n",
            "        [ 0,  1, -1],\n",
            "        [ 1,  3, -1]])\n",
            "3 tensor([3, 2, 2])\n"
          ]
        }
      ]
    },
    {
      "cell_type": "markdown",
      "source": [
        "# Linear Regression"
      ],
      "metadata": {
        "id": "mv79uGZpBIqT"
      }
    },
    {
      "cell_type": "markdown",
      "source": [
        "### Linear Regression Basics\n",
        "- A linear combination of known $\\phi_k(\\cdot)$ functions (basis functions)\n",
        "\n",
        ">$\\displaystyle f(x;\\boldsymbol{\\beta}) = \\sum_{k=1}^K \\beta_k\\, \\phi_k(x) $\n",
        "> <br/><br/>\n",
        "> It's a dot product\n",
        "> <br/><br/>\n",
        ">$\\displaystyle f(x;\\boldsymbol{\\beta}) = \\boldsymbol\\beta^T \\boldsymbol\\phi(x)$\n",
        "> <br/><br/>\n",
        ">with $\\boldsymbol{\\beta}=(\\beta_1,\\dots,\\beta_K)^T$\n",
        "\n",
        "\n",
        "- Linear in $\\boldsymbol{\\beta}$, cost function is quadratic\n",
        "\n",
        ">$\\displaystyle C = \\sum_{i=1}^N \\left\\{ y_i - \\sum_{k=1}^K \\beta_k\\, \\phi_k(x_i) \\right\\}^2$\n",
        "\n",
        "- Solution:\n",
        "\n",
        ">$\\displaystyle X^T y = X^T X \\hat{\\beta} $\n",
        "> <br/><br/>\n",
        ">$\\displaystyle \\hat\\beta = (X^T X)^{-1} X^T y = X^+ y$\n",
        ">$\\ \\ \\displaystyle {H} = X\\,(X^T X)^{-1} X^T$\n",
        "\n",
        "### Regularization\n",
        "\n",
        "Penalize large coefficients in $\\beta$\n",
        "\n",
        "- **Ridge regression** uses $L_2$\n",
        "\n",
        "> $\\displaystyle \\hat{\\beta} = \\arg\\!\\min_{\\beta} \\, \\lvert y- X\\beta \\,\\rvert^2_2\\ + \\lambda\\,\\lvert\\beta\\rvert^2_2$  \n",
        "><br/>\n",
        "> or even with a constant matrix $\\Gamma$\n",
        "><br/><br/>\n",
        "> $\\displaystyle \\hat{\\beta} = \\arg\\!\\min_{\\beta} \\, \\lvert y- X\\beta \\,\\rvert^2_2 + \\lambda\\,\\lvert\\Gamma\\beta\\rvert^2_2$  \n",
        "\n",
        "- **Lasso regression** uses $L_1$\n",
        "\n",
        "> $\\displaystyle \\hat{\\beta} = \\arg\\!\\min_{\\beta}  \\, \\lvert y- X\\beta \\,\\rvert^2_2 + \\lambda\\,\\lvert\\beta\\rvert_1$\n",
        "><br/><br/>\n",
        "> $L_1$ yields sparse results\n",
        "\n",
        "Different geometric meanings!"
      ],
      "metadata": {
        "id": "-sIH1eUZBRmb"
      }
    },
    {
      "cell_type": "markdown",
      "source": [
        "## Linear regression by fitting linear function y = ax + b"
      ],
      "metadata": {
        "id": "ANMM2_g2DNt9"
      }
    },
    {
      "cell_type": "code",
      "source": [
        "# example of linear regression\n",
        "%pylab inline\n",
        "import numpy as np\n",
        "from scipy.stats import norm as gaussian"
      ],
      "metadata": {
        "colab": {
          "base_uri": "https://localhost:8080/"
        },
        "id": "9Yb9cwquBMnd",
        "outputId": "96d75fb9-4e98-4b79-8b86-fba0516f1ba8"
      },
      "execution_count": null,
      "outputs": [
        {
          "output_type": "stream",
          "name": "stdout",
          "text": [
            "Populating the interactive namespace from numpy and matplotlib\n"
          ]
        }
      ]
    },
    {
      "cell_type": "code",
      "source": [
        "x = 3 * random.rand(50) # between 0 and 3\n",
        "e = 1 * random.randn(x.size) # noise\n",
        "y = 10*cos(x+1) + e # cosine function plus some gaussian noise\n",
        "plot(x,y,'bx')"
      ],
      "metadata": {
        "colab": {
          "base_uri": "https://localhost:8080/",
          "height": 282
        },
        "id": "OWqKOA5MBs_b",
        "outputId": "8d8f00f6-94de-46d9-f734-a35ea69d657f"
      },
      "execution_count": null,
      "outputs": [
        {
          "output_type": "execute_result",
          "data": {
            "text/plain": [
              "[<matplotlib.lines.Line2D at 0x7f92d90cded0>]"
            ]
          },
          "metadata": {},
          "execution_count": 15
        },
        {
          "output_type": "display_data",
          "data": {
            "image/png": "[encoded data removed]",
            "text/plain": [
              "<Figure size 432x288 with 1 Axes>"
            ]
          },
          "metadata": {
            "needs_background": "light"
          }
        }
      ]
    },
    {
      "cell_type": "code",
      "source": [
        "# linear regression with f(x) = a + bx\n",
        "X = np.ones((x.size, 2)) # we have 2 feature, first second is data itself\n",
        "X[:, 1] = x\n",
        "Xpinv = inv(X.T.dot(X)).dot(X.T)\n",
        "beta = Xpinv.dot(y)\n",
        "y_pred = X.dot(beta)\n",
        "plot(x,y,'bx'); plot(x,y_pred,'ro'); beta"
      ],
      "metadata": {
        "colab": {
          "base_uri": "https://localhost:8080/",
          "height": 282
        },
        "id": "3WZWxBUDB82c",
        "outputId": "4481f098-f82f-4051-ec66-88f11b92e773"
      },
      "execution_count": null,
      "outputs": [
        {
          "output_type": "execute_result",
          "data": {
            "text/plain": [
              "array([ 2.48157224, -5.18157908])"
            ]
          },
          "metadata": {},
          "execution_count": 16
        },
        {
          "output_type": "display_data",
          "data": {
            "image/png": "[encoded data removed]",
            "text/plain": [
              "<Figure size 432x288 with 1 Axes>"
            ]
          },
          "metadata": {
            "needs_background": "light"
          }
        }
      ]
    },
    {
      "cell_type": "markdown",
      "source": [
        "## Linear regression with higher dimension"
      ],
      "metadata": {
        "id": "FuFkw1zgDYMa"
      }
    },
    {
      "cell_type": "code",
      "source": [
        "# linear model f(x) = b0 + b1 x + b2 * x^2\n",
        "X = np.ones((x.size,3));\n",
        "X[:,1] = x # partials wrt. b1\n",
        "X[:,2] = x*x # wrt. b2\n",
        "\n",
        "# sames as before\n",
        "Xpinv = inv(X.T.dot(X)).dot(X.T)\n",
        "beta = Xpinv.dot(y)\n",
        "y_pred = X.dot(beta)\n",
        "plot(x,y,'bx'); plot(x,y_pred,'ro'); beta"
      ],
      "metadata": {
        "colab": {
          "base_uri": "https://localhost:8080/",
          "height": 286
        },
        "id": "4w5Bts1_DbBV",
        "outputId": "4f5f5303-d4f8-4a26-c4b5-897111bf3690"
      },
      "execution_count": null,
      "outputs": [
        {
          "output_type": "execute_result",
          "data": {
            "text/plain": [
              "array([  6.910769 , -15.1902933,   3.4698606])"
            ]
          },
          "metadata": {},
          "execution_count": 17
        },
        {
          "output_type": "display_data",
          "data": {
            "image/png": "[encoded data removed]",
            "text/plain": [
              "<Figure size 432x288 with 1 Axes>"
            ]
          },
          "metadata": {
            "needs_background": "light"
          }
        }
      ]
    },
    {
      "cell_type": "code",
      "source": [
        "# with sckit learn\n",
        "from sklearn.linear_model import LinearRegression\n",
        "from sklearn.linear_model import Ridge # similar thing except that it adds regularization\n",
        "regressor = LinearRegression()\n",
        "x = 3 * random.rand(100000)\n",
        "e = 1 * random.randn(x.size) # noise\n",
        "y = 10*cos(x+1) + e\n",
        "X = np.ones((x.size, 3))\n",
        "X[:, 1] = x\n",
        "X[:, 2] = x*x\n",
        "regressor.fit(X, y)\n",
        "\n",
        "x_new = 3 * random.rand(50)\n",
        "y_new_true =10*cos(x_new+1) + 1 * random.randn(x_new.size)\n",
        "X_test = np.ones((x_new.size, 3))\n",
        "X_test[:, 1] = x_new\n",
        "X_test[:, 2] = x_new * x_new\n",
        "y_pred = regressor.predict(X_test)\n",
        "plot(x_new, y_pred, 'bx'); plot(x_new, y_new_true, 'rx')"
      ],
      "metadata": {
        "colab": {
          "base_uri": "https://localhost:8080/",
          "height": 282
        },
        "id": "M6E4XW7vEfCV",
        "outputId": "cc255346-a9d8-4c66-f7af-93926754cfc1"
      },
      "execution_count": null,
      "outputs": [
        {
          "output_type": "execute_result",
          "data": {
            "text/plain": [
              "[<matplotlib.lines.Line2D at 0x7f92d8debe50>]"
            ]
          },
          "metadata": {},
          "execution_count": 24
        },
        {
          "output_type": "display_data",
          "data": {
            "image/png": "[encoded data removed]",
            "text/plain": [
              "<Figure size 432x288 with 1 Axes>"
            ]
          },
          "metadata": {
            "needs_background": "light"
          }
        }
      ]
    },
    {
      "cell_type": "markdown",
      "source": [
        "# PCA\n",
        "\n",
        "### Directions of Maximum Variance\n",
        "\n",
        "- Let $X\\in\\mathbb{R}^N$ be a continuous random variable with $\\mathbb{E}\\left[X\\right]=0$ mean and covariance matrix $C$. What is the direction of maximum variance?\n",
        "\n",
        "> For any vector $a\\in\\mathbb{R}^N$\n",
        "><br/><br/>\n",
        "> $\\displaystyle \\mathbb{Var}[a^T X] = \\mathbb{E}\\left[(a^T X)(X^T a)\\right] = \\mathbb{E}\\left[a^T(XX^T)\\,a\\right]$\n",
        "><br/><br/>\n",
        "> so\n",
        "><br/><br/>\n",
        "> $\\displaystyle \\mathbb{Var}[a^T X] = a^T\\,\\mathbb{E}\\!\\left[XX^T\\right]\\,a = a^T C\\,a$\n",
        "><br/><br/>\n",
        "> We have to maximize this such that $a^2\\!=\\!1$\n",
        "\n",
        "### Constrained Optimization\n",
        "- **Lagrange multiplier**: extra term with new parameter $\\lambda$\n",
        "\n",
        "> $\\displaystyle  \\hat{a} = \\arg\\max_{a\\in{}\\mathbb{R}^N} \\left[a^T C\\,a - \\lambda\\,(a^2\\!-\\!1)\\right]$\n",
        "\n",
        "### Result\n",
        "\n",
        "- The value of maximum variance is\n",
        "\n",
        "> $\\displaystyle  \\hat{a}^TC\\,\\hat{a} = \\hat{a}^T \\lambda\\,\\hat{a} = \\lambda\\, \\hat{a}^T\\hat{a} = \\lambda$\n",
        "><br/><br/>\n",
        "> the largest eigenvalue $\\lambda_1$\n",
        "\n",
        "- The direction of maximum variance is the corresponding eigenvector $a_1$\n",
        "\n",
        "> $\\displaystyle  Ca_1 = \\lambda_1 a_1 $\n",
        "\n",
        "- This is the **1st Principal Component**\n",
        "\n",
        "### PCA\n",
        "\n",
        "- Spectral decomposition or eigenvalue decomposition or eigendecomposition\n",
        "\n",
        "> Let $\\lambda_1\\geq\\lambda_2\\geq\\dots\\geq\\lambda_N\\geq{}0$ be the eigenvalues of $C$ and ${e}_1,\\dots,{e}_N$ the corresponding eigenvectors\n",
        "><br/><br/>\n",
        "> $\\displaystyle  C = \\sum_{k=1}^N\\ \\lambda_k\\left({e}_k\\,{e}_k^T\\right) $\n",
        "><br/><br/>\n",
        "> Consider $\\displaystyle C\\,e_l = \\sum_k \\lambda_k\\,e_k\\left(e_k^T e_l\\right) = \\lambda_l\\,e_l$ for any $l$\n",
        "\n",
        "- Matrix form\n",
        "\n",
        "> With diagonal $\\Lambda$ matrix of the eigenvalues and an $E$ matrix of $[{e}_1, \\dots, {e}_N]$\n",
        "><br/><br/>\n",
        "> $\\displaystyle  C = E\\ \\Lambda\\ E^T$\n",
        "\n",
        "\n",
        "- The eigenvectors of largest eigenvalues capture the most variance\n",
        "\n",
        "> If keeping only $K<N$ eigenvectors, the best approximation is taking the first $K$ PCs\n",
        "><br/><br/>\n",
        "> $\\displaystyle  C \\approx \\sum_{k=1}^K\\ \\lambda_k\\left({e}_k\\,{e}_k^T\\right) =  E_K\\Lambda_KE_K^T$\n",
        "\n",
        "- The $E$ matrix of eigenvectors is a rotation, $E\\,E^T = I$\n",
        "\n",
        "> $\\displaystyle  Z = E^T\\, X $\n",
        "\n",
        "\n",
        "- A truncated set of eigenvectors $E_K$ defines a projection\n",
        "\n",
        "> $\\displaystyle  Z_K = E_K^T\\, X $\n",
        "><br/><br/>\n",
        "> and\n",
        "><br/><br/>\n",
        "> $\\displaystyle  X_K = E_K Z_K = E_K E_K^T\\, X = P_K\\,X $\n",
        "\n",
        "### Samples\n",
        "\n",
        "- Set of $N$-vectors arranged in matrix $X=\\left[x_1, x_2, \\dots, x_n \\right]$ with average of 0 <br>\n",
        "<font color=\"red\">*This is NOT the random variable we talked about previously but the data matrix!*</font>\n",
        "\n",
        "> Sample covariance matrix is\n",
        "><br/><br/>\n",
        ">$\\displaystyle C = \\frac{1}{n\\!-\\!1}\\ X X^T = \\frac{1}{n\\!-\\!1}\\  \\sum_i x_i x_i^T$\n",
        "\n",
        "- Singular Value Decomposition (SVD)\n",
        "\n",
        ">$\\displaystyle X = U W V^T$\n",
        "><br/><br/>\n",
        "> where $U^TU=I$, $W$ is diagonal, and $V^TV=I$\n",
        "\n",
        "- Hence\n",
        "\n",
        ">$\\displaystyle C = \\frac{1}{n\\!-\\!1}\\  UWV^T\\ VWU^T = \\frac{1}{n\\!-\\!1}\\ U W^2 U^T$\n",
        "><br/><br/>\n",
        "> So, if $C=E\\Lambda E^T$ then $E = U$ and $\\displaystyle \\Lambda = \\frac{1}{n\\!-\\!1}\\  W^2$\n",
        "\n",
        "\n",
        "\n",
        "\n",
        "\n",
        "\n"
      ],
      "metadata": {
        "id": "fxgKKXL2HgPd"
      }
    },
    {
      "cell_type": "markdown",
      "source": [
        "## PCA computed by eigenvectors and svd directly"
      ],
      "metadata": {
        "id": "69NOf0nLLPnq"
      }
    },
    {
      "cell_type": "code",
      "source": [
        "from scipy.stats import norm\n",
        "# generate multiple 2-D (column) vectors\n",
        "S = norm.rvs(0,1,(2,20))\n",
        "S[0,:] *= 4  # scale axis 0\n",
        "f = +pi/4    # rotate by 45 degrees\n",
        "R = array([[cos(f), -sin(f)],\n",
        "           [sin(f),  cos(f)]])\n",
        "X = R.dot(S)\n",
        "X += np.array([[1],[3]]) # shift\n",
        "\n",
        "figure(figsize=(5,5)); xlim(-15,15); ylim(-15,15);\n",
        "plot(X[0,:],X[1,:],'o',alpha=0.9)"
      ],
      "metadata": {
        "colab": {
          "base_uri": "https://localhost:8080/",
          "height": 341
        },
        "id": "2T6yrIELLC69",
        "outputId": "9aa1ae33-fc95-4ad7-f0a7-5f4da3baf4f0"
      },
      "execution_count": null,
      "outputs": [
        {
          "output_type": "execute_result",
          "data": {
            "text/plain": [
              "[<matplotlib.lines.Line2D at 0x7f8d6554f4d0>]"
            ]
          },
          "metadata": {},
          "execution_count": 25
        },
        {
          "output_type": "display_data",
          "data": {
            "text/plain": [
              "<Figure size 360x360 with 1 Axes>"
            ],
            "image/png": "[encoded data removed]"
          },
          "metadata": {
            "needs_background": "light"
          }
        }
      ]
    },
    {
      "cell_type": "code",
      "source": [
        "Y = X.T\n",
        "Y -= Y.mean(axis=0, keepdims=True)\n",
        "Y.shape\n",
        "C = (Y.T).dot(Y) / (Y.shape[0]-1)\n",
        "eigenvalues, eigenvectors= np.linalg.eig(C)\n",
        "n_components=1\n",
        "idx = eigenvalues.argsort()[::-1]\n",
        "print(idx)\n",
        "eigenvalues = eigenvalues[idx][:n_components]\n",
        "eigenvectors = eigenvectors[:, idx][:, :n_components]\n",
        "Y_transform = Y.dot(eigenvectors)\n",
        "print(eigenvectors)\n",
        "print(Y_transform)\n",
        "from sklearn import decomposition\n",
        "pca = decomposition.PCA(n_components=n_components)\n",
        "out = pca.fit_transform(Y)\n",
        "print(out)"
      ],
      "metadata": {
        "colab": {
          "base_uri": "https://localhost:8080/"
        },
        "id": "uwOjlIe5_763",
        "outputId": "5d6f7d13-2939-49ec-eb26-4990084147ad"
      },
      "execution_count": null,
      "outputs": [
        {
          "output_type": "stream",
          "name": "stdout",
          "text": [
            "[0 1]\n",
            "[[0.74192072]\n",
            " [0.67048762]]\n",
            "[[ 0.78585855]\n",
            " [ 5.01008876]\n",
            " [-6.65229859]\n",
            " [ 0.60699428]\n",
            " [ 0.81749155]\n",
            " [ 2.93039788]\n",
            " [-5.15506174]\n",
            " [-5.54294461]\n",
            " [ 1.92544425]\n",
            " [ 1.05244238]\n",
            " [ 0.87357075]\n",
            " [ 1.25317938]\n",
            " [-2.88478401]\n",
            " [ 0.73854529]\n",
            " [ 0.98476584]\n",
            " [-3.0675917 ]\n",
            " [ 7.280863  ]\n",
            " [ 1.64744135]\n",
            " [-4.91781498]\n",
            " [ 2.31341236]]\n",
            "[[ 0.78585855]\n",
            " [ 5.01008876]\n",
            " [-6.65229859]\n",
            " [ 0.60699428]\n",
            " [ 0.81749155]\n",
            " [ 2.93039788]\n",
            " [-5.15506174]\n",
            " [-5.54294461]\n",
            " [ 1.92544425]\n",
            " [ 1.05244238]\n",
            " [ 0.87357075]\n",
            " [ 1.25317938]\n",
            " [-2.88478401]\n",
            " [ 0.73854529]\n",
            " [ 0.98476584]\n",
            " [-3.0675917 ]\n",
            " [ 7.280863  ]\n",
            " [ 1.64744135]\n",
            " [-4.91781498]\n",
            " [ 2.31341236]]\n"
          ]
        }
      ]
    },
    {
      "cell_type": "code",
      "source": [
        "print(X.shape) # 2d gaussian, 20 examples\n",
        "avg = np.mean(X, axis=1, keepdims=True)\n",
        "X -= avg # zero mean\n",
        "# covariance matrix\n",
        "m =  (X[0,:].size-1)\n",
        "C = X.dot(X.T) / (X.shape[1]-1)\n",
        "print(C)"
      ],
      "metadata": {
        "colab": {
          "base_uri": "https://localhost:8080/"
        },
        "id": "0Jl_GxIfLZI-",
        "outputId": "e811c795-3a3d-43e8-bdf6-98b68cbb4855"
      },
      "execution_count": null,
      "outputs": [
        {
          "output_type": "stream",
          "name": "stdout",
          "text": [
            "(2, 20)\n",
            "[[8.09246442 7.79481668]\n",
            " [7.79481668 9.78569582]]\n"
          ]
        }
      ]
    },
    {
      "cell_type": "code",
      "source": [
        "L, E = np.linalg.eig(C) # L is eigen value and E is eigen vectors\n",
        "num_eigen = L.shape[0]\n",
        "diag_matrix = np.zeros((num_eigen, num_eigen))\n",
        "diag_matrix[0, 0] = L[0]\n",
        "diag_matrix[1,1] = L[1]\n",
        "E @ diag_matrix @ E.T # recover covariance matrix"
      ],
      "metadata": {
        "colab": {
          "base_uri": "https://localhost:8080/"
        },
        "id": "heWJGFblMYyo",
        "outputId": "abc081e2-dff4-4cde-e76c-da966df254d2"
      },
      "execution_count": null,
      "outputs": [
        {
          "output_type": "execute_result",
          "data": {
            "text/plain": [
              "array([[8.09246442, 7.79481668],\n",
              "       [7.79481668, 9.78569582]])"
            ]
          },
          "metadata": {},
          "execution_count": 74
        }
      ]
    },
    {
      "cell_type": "code",
      "source": [
        "# svd version\n",
        "U, W, V = np.linalg.svd(X)\n",
        "# U is the as E from eigenvector\n",
        "print(U)\n",
        "print(E)\n",
        "# W^2 /N-1 is the same as eigenvalue\n",
        "#print(W**2 / (X.shape[1]-1))\n",
        "print(L)\n",
        "temp = (W**2 /(X.shape[1]-1))\n",
        "print(temp)"
      ],
      "metadata": {
        "colab": {
          "base_uri": "https://localhost:8080/"
        },
        "id": "Z6YqPRHnNtA_",
        "outputId": "58293e23-c789-4c34-c54d-5fe293b841b8"
      },
      "execution_count": null,
      "outputs": [
        {
          "output_type": "stream",
          "name": "stdout",
          "text": [
            "[[-0.66784069 -0.74430425]\n",
            " [-0.74430425  0.66784069]]\n",
            "[[-0.74430425 -0.66784069]\n",
            " [ 0.66784069 -0.74430425]]\n",
            "[ 1.09842165 16.77973859]\n",
            "[16.77973859  1.09842165]\n"
          ]
        }
      ]
    },
    {
      "cell_type": "markdown",
      "source": [
        "## PCA with sklearn"
      ],
      "metadata": {
        "id": "XbdvS0pYQP8t"
      }
    },
    {
      "cell_type": "code",
      "source": [
        "from sklearn import decomposition\n",
        "pca = decomposition.PCA(n_components=X.shape[0])\n",
        "pca.fit(X.T) # different convention: row vs col !!!\n",
        "pca.components_.T, pca.explained_variance_ # eigenvectors, eigenvalues in sorted version\n"
      ],
      "metadata": {
        "colab": {
          "base_uri": "https://localhost:8080/"
        },
        "id": "L8zojPzWQSBR",
        "outputId": "a5323d66-6ea0-4a8f-8264-8f42dfc44d40"
      },
      "execution_count": null,
      "outputs": [
        {
          "output_type": "execute_result",
          "data": {
            "text/plain": [
              "(array([[ 0.66784069, -0.74430425],\n",
              "        [ 0.74430425,  0.66784069]]), array([16.77973859,  1.09842165]))"
            ]
          },
          "metadata": {},
          "execution_count": 76
        }
      ]
    },
    {
      "cell_type": "code",
      "source": [
        "# use learned pca to transform into lower dimension\n",
        "pca = decomposition.PCA(n_components=1) # only keep the highest variance dimension\n",
        "pca.fit(X.T)\n",
        "pca.components_.T, pca.explained_variance_\n",
        "x_trans = pca.transform(X.T)\n",
        "idx = np.arange(0, x_trans.shape[0])\n",
        "scatter(idx, x_trans)"
      ],
      "metadata": {
        "colab": {
          "base_uri": "https://localhost:8080/",
          "height": 282
        },
        "id": "g_7W8bYDU9Rs",
        "outputId": "ed9b0bf5-73df-4d9b-86b3-6121b1277b36"
      },
      "execution_count": null,
      "outputs": [
        {
          "output_type": "execute_result",
          "data": {
            "text/plain": [
              "<matplotlib.collections.PathCollection at 0x7f92d8e7bbd0>"
            ]
          },
          "metadata": {},
          "execution_count": 83
        },
        {
          "output_type": "display_data",
          "data": {
            "image/png": "[encoded data removed]",
            "text/plain": [
              "<Figure size 432x288 with 1 Axes>"
            ]
          },
          "metadata": {
            "needs_background": "light"
          }
        }
      ]
    },
    {
      "cell_type": "markdown",
      "source": [
        "### PCA application\n",
        "\n",
        "#### Coordinate Transformation\n",
        "\n",
        "- New covariance matrix is diagonal and the elements are the eigenvalues of $C$\n",
        "\n",
        "> If $\\beta=E^T X$ and again assuming $\\mathbb{E}[X]=0$ then\n",
        "><br/><br/>\n",
        "> $\\displaystyle \\ \\ \\ \\ \\ \\ \\ \\ \\mathbb{E}[\\beta \\beta^T] = \\mathbb{E}[E^T X\\,X^T E] = E^T C\\,E = \\Lambda$\n",
        "><br/><br/>\n",
        "> where\n",
        "><br/><br/>\n",
        ">$\\displaystyle \\ \\ \\ \\ \\ \\ \\ \\ \\Lambda =  \\left( \\begin{array}{ccc}\n",
        "{\\lambda_1} & 0 & \\cdots & 0\\\\\n",
        "0 & {\\lambda_2} &   & \\vdots\\\\\n",
        "\\vdots &  & \\ddots & 0 \\\\\n",
        "0 & \\cdots & 0 & {\\lambda_N} \\\\\n",
        "\\end{array} \\right)$\n",
        "\n",
        "<!-- -->\n",
        "\n",
        "> Recall $C\\,\\boldsymbol{e}_l = \\lambda_l\\,\\boldsymbol{e}_l$ for all $l$, so the $(k,l)$ element of the new covariance matrix\n",
        "><br/><br/>\n",
        ">$\\displaystyle \\ \\ \\ \\ \\ \\ \\ \\ \\boldsymbol{e}_k^T C\\,\\boldsymbol{e}_l = \\lambda_l\\,\\boldsymbol{e}_k^T  \\boldsymbol{e}_l  = \\lambda_l\\delta_{kl} = \\Lambda_{kl}$\n",
        "\n",
        "#### Dimensionality Reduction\n",
        "\n",
        "\n",
        "- A truncated set of eigenvectors $E_K$ defines a transformation that reduces the dimensionality from $N$ to $K$ while preserving the most variance possible\n",
        "\n",
        "> $\\displaystyle  \\beta_K = E_K^T\\, X $\n",
        "><br/><br/>\n",
        "> and\n",
        "><br/><br/>\n",
        "> $\\displaystyle  X_K = E_K \\beta_K = E_K E_K^T\\, X = P_K\\,X $\n",
        "\n",
        "\n"
      ],
      "metadata": {
        "id": "S2h6aWb3QwkJ"
      }
    },
    {
      "cell_type": "code",
      "source": [
        "%pylab inline\n",
        "from scipy.stats import norm as gaussian\n",
        "np.random.seed(42)\n",
        "N = gaussian.rvs(0,1,(2,50))\n",
        "# copy and scale it\n",
        "S = np.copy(N)\n",
        "S[0,:] *= 4  # scale axis 0\n",
        "# rotate it\n",
        "f = +pi/4    # rotate by 45 degrees\n",
        "R = array([[cos(f), -sin(f)],\n",
        "           [sin(f),  cos(f)]])\n",
        "X = R.dot(S)\n",
        "# shift it\n",
        "X += np.array([[1],[3]])\n",
        "print(X.shape)"
      ],
      "metadata": {
        "colab": {
          "base_uri": "https://localhost:8080/"
        },
        "id": "Vs-VNJYCQv7c",
        "outputId": "4e909254-5097-4a06-8261-7e479b9321d2"
      },
      "execution_count": null,
      "outputs": [
        {
          "output_type": "stream",
          "name": "stdout",
          "text": [
            "Populating the interactive namespace from numpy and matplotlib\n",
            "(2, 50)\n"
          ]
        },
        {
          "output_type": "stream",
          "name": "stderr",
          "text": [
            "/usr/local/lib/python3.7/dist-packages/IPython/core/magics/pylab.py:161: UserWarning: pylab import has clobbered these variables: ['f']\n",
            "`%matplotlib` prevents importing * from pylab and numpy\n",
            "  \"\\n`%matplotlib` prevents importing * from pylab and numpy\"\n"
          ]
        }
      ]
    },
    {
      "cell_type": "code",
      "source": [
        "avg = mean(X, axis=1).reshape(X[:,1].size,1)\n",
        "X -= avg\n",
        "# sample covariance matrix\n",
        "C = X.dot(X.T) / (X.shape[1]-1)\n",
        "L, E = np.linalg.eig(C)\n",
        "print(C.shape, L.shape)\n",
        "# rotation computed from EX, which is beta\n",
        "A = E.T.dot(X);\n",
        "figure(figsize=(5,5)); xlim(-10,10); ylim(-10,10);\n",
        "scatter(A[0,:],A[1,:],marker='o',s=50,alpha=0.3,edgecolor='none');"
      ],
      "metadata": {
        "colab": {
          "base_uri": "https://localhost:8080/",
          "height": 341
        },
        "id": "yp4iAUAwSq8b",
        "outputId": "9225defc-d668-46ac-e1e8-d54f27c42738"
      },
      "execution_count": null,
      "outputs": [
        {
          "output_type": "stream",
          "name": "stdout",
          "text": [
            "(2, 2) (2,)\n"
          ]
        },
        {
          "output_type": "display_data",
          "data": {
            "text/plain": [
              "<Figure size 360x360 with 1 Axes>"
            ],
            "image/png": "[encoded data removed]"
          },
          "metadata": {
            "needs_background": "light"
          }
        }
      ]
    },
    {
      "cell_type": "code",
      "source": [
        "# apply rotation matrix on data point\n",
        "# project points\n",
        "P = E[:,1:2].dot(E[:,1:2].T).dot(X)\n",
        "\n",
        "figure(figsize=(5,5)); xlim(-10,10); ylim(-10,10);\n",
        "scatter(X[0,:],X[1,:],marker='o',color='b', s=50, alpha=0.3, edgecolor='none');\n",
        "scatter(P[0,:],P[1,:],marker='o',color='r', s=50, alpha=0.3, edgecolor='none');"
      ],
      "metadata": {
        "colab": {
          "base_uri": "https://localhost:8080/",
          "height": 324
        },
        "id": "ua3hHMDOTPQa",
        "outputId": "c6de1831-10eb-4d9a-80c4-e95fc9070e84"
      },
      "execution_count": null,
      "outputs": [
        {
          "output_type": "display_data",
          "data": {
            "image/png": "[encoded data removed]",
            "text/plain": [
              "<Figure size 360x360 with 1 Axes>"
            ]
          },
          "metadata": {
            "needs_background": "light"
          }
        }
      ]
    },
    {
      "cell_type": "markdown",
      "source": [
        "### Data whiteninig with PCA\n",
        "\n",
        "- Frequently used to preprocess data, e.g., in signal processing\n",
        "\n",
        ">$ \\displaystyle Z = \\Lambda^{-1/2}\\ E^T\\ X$"
      ],
      "metadata": {
        "id": "fegD3DaIUEFV"
      }
    },
    {
      "cell_type": "code",
      "source": [
        "# calc and plot whitened coordinates\n",
        "B = diag(1/sqrt(L)).dot(A)\n",
        "figure(figsize=(5,5)); xlim(-5,5); ylim(-5,5);\n",
        "scatter(B[0,:],B[1,:], marker='o',color='b', s=50, alpha=0.3, edgecolor='none');"
      ],
      "metadata": {
        "colab": {
          "base_uri": "https://localhost:8080/",
          "height": 320
        },
        "id": "AC4vGaYwUHYZ",
        "outputId": "b5cb84c8-f424-45cb-a794-93e3575409b4"
      },
      "execution_count": null,
      "outputs": [
        {
          "output_type": "display_data",
          "data": {
            "image/png": "[encoded data removed]",
            "text/plain": [
              "<Figure size 360x360 with 1 Axes>"
            ]
          },
          "metadata": {
            "needs_background": "light"
          }
        }
      ]
    },
    {
      "cell_type": "markdown",
      "source": [
        "# Bayesian Inference\n",
        "\n",
        "### Probabilitistic Model\n",
        "- From data $D$ we can **infer** the parameters $\\theta$ of model $M$\n",
        "\n",
        ">$\\displaystyle p(\\theta \\lvert D) = \\frac{p(\\theta)\\,p(D \\lvert \\theta)}{p(D)}$\n",
        ">\n",
        "> or including the model $M$ explicitly\n",
        ">\n",
        ">\n",
        ">$\\displaystyle p(\\theta \\lvert D,M) = \\frac{p(\\theta \\lvert M)\\,p(D \\lvert \\theta,M)}{p(D \\lvert M)}$\n",
        "\n",
        "### Likelihood Function\n",
        "- From data $D$ we can **infer** the parameters $\\theta$ of model $M$\n",
        "\n",
        ">$\\displaystyle p(\\theta \\lvert D) = \\frac{\\pi(\\theta)\\,{\\cal{}L}\\!_D(\\theta)}{Z}$\n",
        ">\n",
        "> where the normalization\n",
        ">\n",
        ">$\\displaystyle Z = \\int \\pi(\\theta)\\,{\\cal{}L}\\!_D(\\theta)\\ d\\theta $\n",
        "\n",
        "- The **posterior** is proportional to the **prior** times the **likelihood function**\n",
        "\n"
      ],
      "metadata": {
        "id": "PKAYJyNMX5Y8"
      }
    },
    {
      "cell_type": "markdown",
      "source": [
        "### Bayesian rule for posterior computation with different priors"
      ],
      "metadata": {
        "id": "9ybxXvQgYxhN"
      }
    },
    {
      "cell_type": "code",
      "source": [
        "data = np.random.randn(500) # fake data points from normal distribution\n",
        "mu = np.linspace(-1.5,1.5,1000) # grid over the parameter\n",
        "\n",
        "lk = np.exp(-0.5*np.sum(np.square(data-mu[:,newaxis]),axis=1))\n",
        "pdf = lk / np.trapz(lk,mu) # Bayes' rule with improper prior 1 for theta\n",
        "\n",
        "plot(mu,pdf,'r'); xlabel('mu'); ylabel('posterior');\n",
        "np.trapz(mu*pdf,mu) # expectation value"
      ],
      "metadata": {
        "colab": {
          "base_uri": "https://localhost:8080/",
          "height": 296
        },
        "id": "k-SLnQ3Ldloh",
        "outputId": "c469b527-6454-49e9-cdc0-1b7f619bd8ca"
      },
      "execution_count": null,
      "outputs": [
        {
          "output_type": "execute_result",
          "data": {
            "text/plain": [
              "0.10706183222045888"
            ]
          },
          "metadata": {},
          "execution_count": 88
        },
        {
          "output_type": "display_data",
          "data": {
            "image/png": "[encoded data removed]",
            "text/plain": [
              "<Figure size 432x288 with 1 Axes>"
            ]
          },
          "metadata": {
            "needs_background": "light"
          }
        }
      ]
    },
    {
      "cell_type": "code",
      "source": [
        "lk.shape"
      ],
      "metadata": {
        "colab": {
          "base_uri": "https://localhost:8080/"
        },
        "id": "u9FLUTWmduA1",
        "outputId": "edda49d1-7c4e-4a5f-8fd4-ed0b964f6dae"
      },
      "execution_count": null,
      "outputs": [
        {
          "output_type": "execute_result",
          "data": {
            "text/plain": [
              "(1000,)"
            ]
          },
          "metadata": {},
          "execution_count": 86
        }
      ]
    },
    {
      "cell_type": "markdown",
      "source": [
        "# Classification\n",
        "\n",
        "### Classification Methods\n",
        "\n",
        "- $k$-NN\n",
        "- Naive Bayes\n",
        "- Quadratic Discriminant Analysis\n",
        "- Logistic regression\n",
        "- Decisions trees\n",
        "- Random forests\n",
        "- Support Vector Machines"
      ],
      "metadata": {
        "id": "DpqmZcx5ghKz"
      }
    },
    {
      "cell_type": "code",
      "source": [
        "# use iris dataset\n",
        "from sklearn import datasets\n",
        "\n",
        "iris = datasets.load_iris()\n",
        "\n",
        "iris.keys()"
      ],
      "metadata": {
        "colab": {
          "base_uri": "https://localhost:8080/"
        },
        "id": "fo4OPKEEgnhR",
        "outputId": "bcd4920a-d727-458b-9511-e260ba1b7280"
      },
      "execution_count": null,
      "outputs": [
        {
          "output_type": "execute_result",
          "data": {
            "text/plain": [
              "dict_keys(['data', 'target', 'frame', 'target_names', 'DESCR', 'feature_names', 'filename', 'data_module'])"
            ]
          },
          "metadata": {},
          "execution_count": 91
        }
      ]
    },
    {
      "cell_type": "code",
      "source": [
        "X = iris.data[:,:]\n",
        "y = iris.target\n",
        "X.shape, y.shape # 150 sample with 4 class"
      ],
      "metadata": {
        "colab": {
          "base_uri": "https://localhost:8080/"
        },
        "id": "k1tK5Gstgu76",
        "outputId": "c38f3737-6705-4ed6-f9f1-4f6738c41458"
      },
      "execution_count": null,
      "outputs": [
        {
          "output_type": "execute_result",
          "data": {
            "text/plain": [
              "((150, 4), (150,))"
            ]
          },
          "metadata": {},
          "execution_count": 96
        }
      ]
    },
    {
      "cell_type": "markdown",
      "source": [
        "### K Nearest Neighbor"
      ],
      "metadata": {
        "id": "hQN4VLqchKj4"
      }
    },
    {
      "cell_type": "code",
      "source": [
        "# sklearn version\n",
        "from sklearn import neighbors\n",
        "\n",
        "X = iris.data[:,:2] # using only 2 features for each\n",
        "y = iris.target\n",
        "clf = neighbors.KNeighborsClassifier(4)\n",
        "clf.fit(X,y) # should split into train and test but ignore for simplicity\n",
        "y_pred = clf.predict(X)\n",
        "print(\"Number of mislabeled points out of a total %d points: %d\"\n",
        "      % (iris.target.size, (iris.target!=y_pred).sum()))"
      ],
      "metadata": {
        "colab": {
          "base_uri": "https://localhost:8080/"
        },
        "id": "oztOS42aiZWJ",
        "outputId": "b0826c6e-2948-4e7f-a4d5-2cc5dd8db98c"
      },
      "execution_count": null,
      "outputs": [
        {
          "output_type": "stream",
          "name": "stdout",
          "text": [
            "Number of mislabeled points out of a total 150 points: 25\n"
          ]
        }
      ]
    },
    {
      "cell_type": "code",
      "source": [
        "# implement from scratch\n",
        "from heapq import *\n",
        "num_sample = y.shape[0]\n",
        "y_pred = np.zeros((X.shape[0]))\n",
        "for i in range(num_sample):\n",
        "    # find the closest k neighbors and use majority vote\n",
        "    pivot = X[i, :]\n",
        "    heap = []\n",
        "    k = 10\n",
        "    for j in range(num_sample):\n",
        "        if i != j:\n",
        "            # check distance and update heap\n",
        "            # here we want botK instead of TopK so negate the distance to make it maxheap\n",
        "            d = pivot - X[j, :]\n",
        "            dist = d.dot(d)\n",
        "            if len(heap) < k:\n",
        "                heappush(heap, (-dist, j))\n",
        "            else:\n",
        "                heappushpop(heap, (-dist, j))\n",
        "\n",
        "    # infer the label from the heap\n",
        "    label_count = [0,0,0]\n",
        "    for _, idx in heap:\n",
        "        neighbor_cls = int(y[idx])\n",
        "        label_count[neighbor_cls] += 1\n",
        "    pred_label = np.argmax(np.array(label_count))\n",
        "    y_pred[i] = pred_label\n",
        "print(y_pred)\n",
        "(iris.target!=y_pred).sum()"
      ],
      "metadata": {
        "colab": {
          "base_uri": "https://localhost:8080/"
        },
        "id": "zrVaEH8ciu1U",
        "outputId": "89a21ae6-4897-4cf2-f165-6e91148558f4"
      },
      "execution_count": null,
      "outputs": [
        {
          "output_type": "stream",
          "name": "stdout",
          "text": [
            "[0. 0. 0. 0. 0. 0. 0. 0. 0. 0. 0. 0. 0. 0. 0. 0. 0. 0. 0. 0. 0. 0. 0. 0.\n",
            " 0. 0. 0. 0. 0. 0. 0. 0. 0. 0. 0. 0. 0. 0. 0. 0. 0. 0. 0. 0. 0. 0. 0. 0.\n",
            " 0. 0. 2. 2. 2. 1. 2. 1. 2. 1. 2. 1. 1. 1. 1. 1. 1. 2. 1. 1. 1. 1. 1. 1.\n",
            " 2. 1. 2. 2. 1. 2. 1. 1. 1. 1. 1. 1. 1. 2. 2. 2. 1. 1. 1. 1. 1. 1. 1. 1.\n",
            " 1. 1. 1. 1. 2. 1. 2. 2. 1. 2. 0. 2. 1. 2. 2. 2. 1. 1. 1. 2. 1. 2. 2. 1.\n",
            " 2. 1. 2. 2. 2. 2. 2. 1. 2. 2. 2. 2. 2. 2. 1. 2. 2. 2. 1. 2. 2. 2. 1. 2.\n",
            " 2. 1. 2. 1. 2. 1.]\n"
          ]
        },
        {
          "output_type": "execute_result",
          "data": {
            "text/plain": [
              "31"
            ]
          },
          "metadata": {},
          "execution_count": 127
        }
      ]
    },
    {
      "cell_type": "markdown",
      "source": [
        "## Naive Bayes\n",
        "\n",
        "### Naive Bayes Classifier\n",
        "\n",
        "- In general, we can use Bayes' rule (and law of total probability) to infer discrete classes $C_k$ for a given $\\boldsymbol{x}$ set of features\n",
        "\n",
        ">$\\displaystyle P(C_k \\lvert\\,\\boldsymbol{x}) = \\frac{\\pi(C_k)\\,{\\cal{}L}_{\\!\\boldsymbol{x}}(C_k)}{Z} $\n",
        "\n",
        "\n",
        "- Naively assuming the features are independent\n",
        "\n",
        ">$\\displaystyle {\\cal{}L}_{\\!\\boldsymbol{x}}(C_k) = \\prod_{\\alpha}^d p(x_{\\alpha} \\lvert C_k)$\n",
        "\n",
        "\n",
        "### Naive Bayes: Learning\n",
        "\n",
        "- Say for Gaussian likelihoods, we simply estimate the sample mean and variance of all features for each class $k$\n",
        "\n",
        ">$\\displaystyle p(x_{\\alpha} \\lvert C_k) = G(x_{\\alpha};\\mu_{k,\\alpha}, \\sigma^2_{k,\\alpha})$\n",
        "\n",
        "- We have to also pick some prior for the classes\n",
        "\n",
        "> Using uniform or based on frequency of points in the training set?\n",
        "\n",
        "### Naive Bayes: Estimation\n",
        "\n",
        "- Look for maximum of the posterior\n",
        "\n",
        "\n",
        ">$\\displaystyle \\hat{k} =  \\mathrm{arg}\\max_k \\left[ \\pi_k \\prod_{\\alpha}^d G(x_{\\alpha};\\mu_{k,\\alpha}, \\sigma^2_{k,\\alpha})\\right]$\n"
      ],
      "metadata": {
        "id": "tI0sT2vzrhYM"
      }
    },
    {
      "cell_type": "code",
      "source": [
        "# calculate feature means and variances for each class\n",
        "param = dict()  # we save them in this dictionary\n",
        "data = iris.data.copy()\n",
        "classes = np.unique(iris.target)\n",
        "\n",
        "for k in classes:\n",
        "    members = (iris.target == k) # boolean array\n",
        "    num = members.sum()    # True:1, False:0\n",
        "    prior = num / iris.target.size\n",
        "    X = data[members,:] # slice out members\n",
        "    mu = X.mean(axis=0)      # calc mean\n",
        "    X -= mu\n",
        "    var = (X*X).sum(axis=0) / (X.shape[0]-1)\n",
        "    param[k] = (num, prior, mu, var) # save results\n",
        "\n",
        "# init predicted values\n",
        "k_pred = -1 * ones(iris.target.size)\n",
        "\n",
        "# evaluate posterior for each point and find maximum\n",
        "for i in range(iris.target.size):\n",
        "    pmax, kmax = -1, None   # initialize to nonsense values\n",
        "    for k in classes:\n",
        "        num, prior, mu, var = param[k]\n",
        "        diff = iris.data[i,:] - mu # multivariate normal distribution estimation\n",
        "        d2 = diff*diff / (2*var) #\n",
        "        p = prior * np.exp(-d2.sum()) / np.sqrt(np.prod(2*pi*var)) # denom is multiplied for each dimension\n",
        "        if p > pmax:\n",
        "            pmax = p\n",
        "            kmax = k\n",
        "    k_pred[i] = kmax\n",
        "\n",
        "print(\"Number of mislabeled points out of a total %d points : %d\"\n",
        "      % (iris.target.size, (iris.target!=k_pred).sum()))"
      ],
      "metadata": {
        "colab": {
          "base_uri": "https://localhost:8080/"
        },
        "id": "NIV_1EvV1nkF",
        "outputId": "a822746c-76b7-4713-a20b-63e6c7af003f"
      },
      "execution_count": null,
      "outputs": [
        {
          "output_type": "stream",
          "name": "stdout",
          "text": [
            "Number of mislabeled points out of a total 150 points : 6\n"
          ]
        }
      ]
    },
    {
      "cell_type": "code",
      "source": [
        "# sklearn way\n",
        "# run sklearn's version - read up on differences if interested\n",
        "from sklearn.naive_bayes import GaussianNB\n",
        "\n",
        "gnb = GaussianNB()\n",
        "print(iris.data.shape)\n",
        "y_pred = gnb.fit(iris.data, iris.target).predict(iris.data)\n",
        "\n",
        "print(\"Number of mislabeled points out of a total %d points : %d\"\n",
        "      % (iris.target.size, (iris.target!=y_pred).sum()))"
      ],
      "metadata": {
        "colab": {
          "base_uri": "https://localhost:8080/"
        },
        "id": "h6fJepT-34T6",
        "outputId": "7d796f0d-8aa9-4d52-b425-ebffdfb67d47"
      },
      "execution_count": null,
      "outputs": [
        {
          "output_type": "stream",
          "name": "stdout",
          "text": [
            "(150, 4)\n",
            "Number of mislabeled points out of a total 150 points : 6\n"
          ]
        }
      ]
    },
    {
      "cell_type": "markdown",
      "source": [
        "## Quadratic Discriminant Analysis\n",
        "> #### Best class?\n",
        ">$\\displaystyle \\max_k \\big[\\ P(C_k|x)\\ \\big]$\n",
        ">\n",
        ">$\\displaystyle \\max_k \\big[\\ \\pi_k {\\cal{}L}_x(C_k)\\ \\big]$\n",
        ">\n",
        ">$\\displaystyle \\min_k \\big[ -\\ln\\pi_k - \\ln{\\cal{}L}_x(C_k)\\ \\big]$\n",
        "\n",
        "> #### Multivariate normal\n",
        ">$\\displaystyle {\\cal{}L}_x(C_k) = \\frac{1}{\\sqrt{\\lvert2\\pi\\Sigma_k\\rvert}} \\exp\\left(-\\frac{1}{2} (x\\!-\\!\\mu_k)^T \\Sigma_k^{-1} (x\\!-\\!\\mu_k)\\right)$\n",
        ">\n",
        "> Hence,\n",
        ">\n",
        ">$\\displaystyle \\min_k \\Big[ \\frac{1}{2} (x\\!-\\!\\mu_k)^T \\Sigma_k^{-1} (x\\!-\\!\\mu_k) + \\frac{1}{2}\\ln\\lvert\\Sigma_k\\rvert -\\ln\\pi_k \\ \\Big]$"
      ],
      "metadata": {
        "id": "Dc82D5O55OoD"
      }
    },
    {
      "cell_type": "code",
      "source": [
        "class MyQDA(object):\n",
        "    \"\"\" Simple implementation for illustration purposes\n",
        "    \"\"\"\n",
        "    def fit(self,X,C):\n",
        "        self.param = dict()\n",
        "        for k in np.unique(C):\n",
        "            members = (C==k)\n",
        "            prior = members.sum() / float(C.size)\n",
        "            S = X[members,:] # subset of class\n",
        "            mu = S.mean(axis=0)\n",
        "            Z = (S-mu).T # centered column vectors\n",
        "            cov = Z.dot(Z.T) / (Z[0,:].size-1)\n",
        "            self.param[k] = (mu,cov,prior)\n",
        "        return self\n",
        "\n",
        "    def predict(self,Y):\n",
        "        Cpred = -1 * np.ones(Y[:,0].size)\n",
        "        for i in range(Cpred.size):\n",
        "            d2min, kbest = 1e99, None\n",
        "            for k in self.param:\n",
        "                mu, cov, prior = self.param[k]\n",
        "                diff = (Y[i,:]-mu).T\n",
        "                d2 = diff.T.dot(np.linalg.inv(cov)).dot(diff) / 2\n",
        "                d2 += np.log(np.linalg.det(cov)) / 2 - np.log(prior)\n",
        "                if d2<d2min: d2min,kbest = d2,k\n",
        "            Cpred[i] = kbest\n",
        "        return Cpred"
      ],
      "metadata": {
        "id": "f-pL51OZ5ZkJ"
      },
      "execution_count": null,
      "outputs": []
    },
    {
      "cell_type": "markdown",
      "source": [
        "## Decision Tree\n",
        "\n",
        "- Recursive partitioning of the training dataset\n",
        "\n",
        "> At a given node with dataset $D$ we look for the\n",
        "> best split\n",
        "> <br>\n",
        "> <br>\n",
        "> $\\theta = $ (feature $j$, threshold $t$)\n",
        "> <br>\n",
        "> <br>\n",
        "> such that the\n",
        "> partitions $D_{\\textrm{left}}(\\theta)$ and $D_{\\textrm{right}}(\\theta)$ have minimal *impurity*\n",
        "> <br>\n",
        "> <br>\n",
        "> $\\displaystyle I(\\theta) = \\frac{n_{\\textrm{left}}}{n}\\, H\\Big(D_{\\textrm{left}}(\\theta)\\Big) + \\frac{n_{\\textrm{right}}}{n}\\,H\\Big(D_{\\textrm{right}}(\\theta)\\Big)$\n",
        "\n",
        "- Different impurity functions $H(\\cdot)$\n",
        "\n",
        "> E.g., Gini with $K$ classes in the partition $D$\n",
        "> <br>\n",
        "> <br>\n",
        ">$\\displaystyle H(D) = \\sum_{i=1}^K p_i (1-p_i)$\n",
        "> <br>\n",
        "> <br>\n",
        "> Or variance for regression"
      ],
      "metadata": {
        "id": "NNjf6OIaKHO3"
      }
    },
    {
      "cell_type": "code",
      "source": [
        "# toy example\n",
        "X = np.array([[.7,0],[1,.3],[1.1,0],[.9,0],[1,0],[1,-.1],[1,.1],[1,.2]],\n",
        "             dtype=np.float)\n",
        "c = np.array([ 0,0,0,0, 1,1,1, 2], dtype=np.float)\n",
        "figure(figsize(3,3))\n",
        "subplot(111,aspect='equal'); scatter(X[:,0],X[:,1],c=c,cmap=cm.brg);"
      ],
      "metadata": {
        "colab": {
          "base_uri": "https://localhost:8080/",
          "height": 335
        },
        "id": "uUJL2aR1KjlE",
        "outputId": "a4dd8dfa-2d88-4b37-de87-77d33ac2ba15"
      },
      "execution_count": null,
      "outputs": [
        {
          "output_type": "stream",
          "name": "stderr",
          "text": [
            "/usr/local/lib/python3.7/dist-packages/ipykernel_launcher.py:3: DeprecationWarning: `np.float` is a deprecated alias for the builtin `float`. To silence this warning, use `float` by itself. Doing this will not modify any behavior and is safe. If you specifically wanted the numpy scalar type, use `np.float64` here.\n",
            "Deprecated in NumPy 1.20; for more details and guidance: https://numpy.org/devdocs/release/1.20.0-notes.html#deprecations\n",
            "  This is separate from the ipykernel package so we can avoid doing imports until\n",
            "/usr/local/lib/python3.7/dist-packages/ipykernel_launcher.py:4: DeprecationWarning: `np.float` is a deprecated alias for the builtin `float`. To silence this warning, use `float` by itself. Doing this will not modify any behavior and is safe. If you specifically wanted the numpy scalar type, use `np.float64` here.\n",
            "Deprecated in NumPy 1.20; for more details and guidance: https://numpy.org/devdocs/release/1.20.0-notes.html#deprecations\n",
            "  after removing the cwd from sys.path.\n"
          ]
        },
        {
          "output_type": "display_data",
          "data": {
            "image/png": "[encoded data removed]",
            "text/plain": [
              "<Figure size 216x216 with 1 Axes>"
            ]
          },
          "metadata": {
            "needs_background": "light"
          }
        }
      ]
    },
    {
      "cell_type": "code",
      "source": [
        "from sklearn import tree\n",
        "clf = tree.DecisionTreeClassifier(max_depth=1)\n",
        "clf.fit(X,c)\n",
        "\n",
        "print (clf.tree_.n_node_samples)\n",
        "print (clf.tree_.impurity)\n",
        "print (clf.tree_.feature)\n",
        "print (clf.tree_.threshold)\n",
        "print (clf.feature_importances_) # only X[0] matters in this case"
      ],
      "metadata": {
        "colab": {
          "base_uri": "https://localhost:8080/"
        },
        "id": "-k_5eM3rKpLj",
        "outputId": "4aea5e4d-e6ae-41c3-95e1-8fea86e9103d"
      },
      "execution_count": null,
      "outputs": [
        {
          "output_type": "stream",
          "name": "stdout",
          "text": [
            "[8 2 6]\n",
            "[0.59375    0.         0.61111111]\n",
            "[ 0 -2 -2]\n",
            "[ 0.94999999 -2.         -2.        ]\n",
            "[1. 0.]\n"
          ]
        }
      ]
    },
    {
      "cell_type": "markdown",
      "source": [
        "### Gini impurity of a partition: Toy example\n",
        "\n",
        "- We have 3 classes total hence the sum for the entire dataset is\n",
        "\n",
        ">$ \\displaystyle H = \\frac{4}{8}\\left(1\\!-\\!\\frac{4}{8}\\right)\n",
        "     + \\frac{3}{8}\\left(1\\!-\\!\\frac{3}{8}\\right)\n",
        "     + \\frac{1}{8}\\left(1\\!-\\!\\frac{1}{8}\\right) $ $ \\displaystyle = \\frac{16}{64}\n",
        "     + \\frac{15}{64}\n",
        "     + \\frac{7}{64}\n",
        "     = \\frac{19}{32} = 0.59375$\n",
        "     \n",
        "- This is the root of the tree\n",
        "\n",
        "### Impurity of 2 partitions after first split\n",
        "\n",
        "- The root partition contains 3 classes hence the sum is\n",
        "\n",
        ">$ \\displaystyle H_{\\rm{}left} = \\frac{2}{2}\\left(1\\!-\\!\\frac{2}{2}\\right) + \\frac{0}{2}\\left(1\\!-\\!\\frac{0}{2}\\right) + \\frac{0}{2}\\left(1\\!-\\!\\frac{0}{2}\\right)= 0$\n",
        "\n",
        ">$ \\displaystyle H_{\\rm{}right} = \\frac{3}{6}\\left(1\\!-\\!\\frac{3}{6}\\right)\n",
        "     + \\frac{2}{6}\\left(1\\!-\\!\\frac{2}{6}\\right)\n",
        "     + \\frac{1}{6}\\left(1\\!-\\!\\frac{1}{6}\\right) $\n",
        "\n",
        " $ \\displaystyle = \\frac{9}{36}\n",
        "     + \\frac{8}{36}\n",
        "     + \\frac{5}{36}\n",
        "     = \\frac{11}{18} $ $\\approx 0.61111111$\n",
        "\n",
        "> Cf. numbers above\n",
        "\n",
        "- Note importance of weighting by partition sizes!"
      ],
      "metadata": {
        "id": "I9GQ4ltzKwTl"
      }
    },
    {
      "cell_type": "code",
      "source": [
        "from sklearn import tree\n",
        "clf = tree.DecisionTreeClassifier(max_depth=2)\n",
        "clf.fit(X,c)\n",
        "\n",
        "print (clf.tree_.n_node_samples)\n",
        "print (clf.tree_.impurity)\n",
        "print (clf.tree_.feature)\n",
        "print (clf.tree_.threshold)\n",
        "print (clf.feature_importances_) # so x[1] is a more important feature with more depth"
      ],
      "metadata": {
        "colab": {
          "base_uri": "https://localhost:8080/"
        },
        "id": "l3XVltdOKvwR",
        "outputId": "4c26ccfc-f8e3-476a-a0bb-5b792c27284b"
      },
      "execution_count": null,
      "outputs": [
        {
          "output_type": "stream",
          "name": "stdout",
          "text": [
            "[8 2 6 4 2]\n",
            "[0.59375    0.         0.61111111 0.375      0.5       ]\n",
            "[ 0 -2  1 -2 -2]\n",
            "[ 0.94999999 -2.          0.15       -2.         -2.        ]\n",
            "[0.48148148 0.51851852]\n"
          ]
        }
      ]
    },
    {
      "cell_type": "markdown",
      "source": [
        "### Decision tree with Iris dataset"
      ],
      "metadata": {
        "id": "Ge4Sqo0ZPPYd"
      }
    },
    {
      "cell_type": "code",
      "source": [
        "# iris example\n",
        "from sklearn import datasets\n",
        "\n",
        "iris = datasets.load_iris()\n",
        "X = iris.data[:,:2].copy()  # only first 2 features\n",
        "c = iris.target.copy()      # copy\n",
        "subset = c<2 # classes 0 and 1\n",
        "X,c = X[subset,:], c[subset]\n",
        "\n",
        "print ('New classes:', np.unique(c))\n",
        "print ('New data:', X.shape)"
      ],
      "metadata": {
        "colab": {
          "base_uri": "https://localhost:8080/"
        },
        "id": "9JDH936oKpR3",
        "outputId": "2db259a7-8cbf-4073-8ddc-2fcc5bfe506a"
      },
      "execution_count": null,
      "outputs": [
        {
          "output_type": "stream",
          "name": "stdout",
          "text": [
            "New classes: [0 1]\n",
            "New data: (100, 2)\n"
          ]
        }
      ]
    },
    {
      "cell_type": "code",
      "source": [
        "# grid of points within the limits\n",
        "h = 0.01\n",
        "x,y = meshgrid(arange(X[:,0].min()-.5, X[:,0].max()+.5, h),\n",
        "               arange(X[:,1].min()-.5, X[:,1].max()+.5, h))\n",
        "grid = np.c_[x.ravel(),y.ravel()]\n",
        "\n",
        "# decision-surfaces as fn of max depth\n",
        "for depth in range(1,5):\n",
        "    clf = tree.DecisionTreeClassifier(max_depth=depth)\n",
        "    z = clf.fit(X,c).predict(grid).reshape(x.shape)\n",
        "    figure(figsize=(3,3)); subplot(111,aspect='equal')\n",
        "    contourf(x, y, z, cmap=cm.Spectral_r)\n",
        "    scatter(X[:,0], X[:,1], c=c, cmap=cm.gray);"
      ],
      "metadata": {
        "colab": {
          "base_uri": "https://localhost:8080/",
          "height": 757
        },
        "id": "X9KrLDLjPWCO",
        "outputId": "23d8d4b1-b22f-44c7-dc5b-e772d47618cb"
      },
      "execution_count": null,
      "outputs": [
        {
          "output_type": "display_data",
          "data": {
            "image/png": "[encoded data removed]",
            "text/plain": [
              "<Figure size 216x216 with 1 Axes>"
            ]
          },
          "metadata": {
            "needs_background": "light"
          }
        },
        {
          "output_type": "display_data",
          "data": {
            "image/png": "[encoded data removed]",
            "text/plain": [
              "<Figure size 216x216 with 1 Axes>"
            ]
          },
          "metadata": {
            "needs_background": "light"
          }
        },
        {
          "output_type": "display_data",
          "data": {
            "image/png": "[encoded data removed]",
            "text/plain": [
              "<Figure size 216x216 with 1 Axes>"
            ]
          },
          "metadata": {
            "needs_background": "light"
          }
        },
        {
          "output_type": "display_data",
          "data": {
            "image/png": "[encoded data removed]",
            "text/plain": [
              "<Figure size 216x216 with 1 Axes>"
            ]
          },
          "metadata": {
            "needs_background": "light"
          }
        }
      ]
    },
    {
      "cell_type": "markdown",
      "source": [
        "## Random *Forest*\n",
        "\n",
        "- Hard to pick the *best* in high dimensions (i.e., very expensive)\n",
        "\n",
        "> Instead we pick a number of random directions to search<br/>\n",
        "> and take the optimal split among those\n",
        "\n",
        "- A randomized tree will not be optimal but much faster to build\n",
        "- Then the forest combine the result by voting (boostrap and bagging)\n",
        "- bagging: sample with replacement, data randomly selected by multiple models have equal weight\n",
        "- boosting: sampling with updated weight based on how likely the data gives misclassified result. In evaluation stage, also might need to update weight scheme as test data comes in."
      ],
      "metadata": {
        "id": "1KkkNoNNPg0N"
      }
    },
    {
      "cell_type": "code",
      "source": [
        "from sklearn.ensemble import RandomForestClassifier\n",
        "from sklearn.model_selection import cross_val_score\n",
        "\n",
        "clf = RandomForestClassifier(n_estimators=50,max_depth=2)\n",
        "z = clf.fit(X,c).predict(grid).reshape(x.shape)\n",
        "\n",
        "figure(figsize=(4,4)); subplot(111,aspect='equal')\n",
        "contourf(x,y,z, cmap=cm.Spectral_r)\n",
        "scatter(X[:,0],X[:,1], c=c, cmap=cm.gray);\n",
        "\n",
        "cross_val_score(clf, X,c, cv=10)"
      ],
      "metadata": {
        "colab": {
          "base_uri": "https://localhost:8080/",
          "height": 271
        },
        "id": "JBCKKWupPtUC",
        "outputId": "d949bec3-9563-495f-8308-6498ce07306f"
      },
      "execution_count": null,
      "outputs": [
        {
          "output_type": "execute_result",
          "data": {
            "text/plain": [
              "array([1. , 1. , 1. , 1. , 1. , 1. , 0.9, 1. , 0.9, 1. ])"
            ]
          },
          "metadata": {},
          "execution_count": 9
        },
        {
          "output_type": "display_data",
          "data": {
            "image/png": "[encoded data removed]",
            "text/plain": [
              "<Figure size 288x288 with 1 Axes>"
            ]
          },
          "metadata": {
            "needs_background": "light"
          }
        }
      ]
    },
    {
      "cell_type": "markdown",
      "source": [
        "## Logistic Regression\n",
        "\n",
        "### Recall linear regression\n",
        "- General Form\n",
        "> $ \\displaystyle Y = X \\beta + \\epsilon $\n",
        "\n",
        "- Fit (least square)\n",
        "> $ \\displaystyle \\widehat{\\beta} = (X^\\top X)^{-1} X^\\top Y $\n",
        "\n",
        "- Predict\n",
        "> $ \\displaystyle \\widehat{Y} = X \\widehat{\\beta} $\n",
        "\n",
        "- Note that $ Y $ here is usually continuous. What if we have $ Y $ that is categorical, for example $ \\displaystyle Y \\in \\{ 0, 1 \\} $\n",
        "\n",
        "### Binary Logistic Regression\n",
        "\n",
        "- General Form\n",
        "> $ \\displaystyle \\text{logit} \\left[ \\pi(x) \\right] = \\log \\left[ \\frac{\\pi(x)}{1-\\pi(x)} \\right] = \\beta_0 + \\beta_1 x \\qquad $ where $ \\displaystyle \\qquad \\pi(x) = \\mathbb{P}(y=1 \\ | \\ X = x) $\n",
        "\n",
        "- Fit (maximum likelihood)\n",
        "> $ \\displaystyle \\mathcal{L}(\\beta_0, \\beta_1) = \\prod\\limits_{i: y_i = 1} \\pi(x_i; \\beta_0, \\beta_1) \\prod\\limits_{j: y_{j} = 0} [1 - \\pi(x_j; \\beta_0, \\beta_1)] $\n",
        ">\n",
        "> $ \\displaystyle l(\\beta_0, \\beta_1) = \\log \\mathcal{L}(\\beta_0, \\beta_1) = \\sum_{i=1}^{n} \\left[y_i \\log \\pi(x_i; \\beta_0, \\beta_1) + (1-y_i) \\log(1-\\pi(x_i; \\beta_0, \\beta_1)) \\right] = \\sum_{i=1}^{n} \\left[y_i (\\beta_0 + \\beta_1 x_i) - \\log (1 + \\exp (\\beta_0 + \\beta_1 x_i))  \\right] $\n",
        ">\n",
        "> $ \\displaystyle \\widehat{\\beta}_0, \\widehat{\\beta}_1 = \\arg \\max_{\\beta_0, \\beta_1} l(\\beta_0, \\beta_1) $\n",
        "\n",
        "- Predict\n",
        "- What is the relationship between logit and probability?\n",
        "> $ \\displaystyle \\text{logit}(p) = \\log \\left( \\frac{p}{1-p} \\right) \\quad \\Longrightarrow \\quad e^{\\text{logit}(p)} = \\frac{p}{1-p} \\quad \\Longrightarrow \\quad p = \\frac{e^{\\text{logit}(p)}}{1+e^{\\text{logit}(p)}} $\n",
        "- Thus\n",
        "> $ \\displaystyle \\widehat{\\pi}(x) = \\frac{\\exp \\left( \\widehat{\\beta}_0 + \\widehat{\\beta}_1 x \\right)}{1 + \\exp \\left( \\widehat{\\beta}_0 + \\widehat{\\beta}_1 x \\right) } $\n",
        "\n",
        "- Use negative loglikelihood to train because MSE gives non-convex training objective. In sklearn, it adds regularization\n",
        "\n",
        "> $ \\displaystyle \\min_{\\omega, c} \\frac{1}{2} \\omega^\\top \\omega + C \\sum_{i=1}^{n} \\log \\left[ \\exp \\left( -y_i \\left( X_i^\\top \\omega + c \\right) \\right) + 1 \\right] \\qquad L_2 \\text{-regularization} $\n",
        ">\n",
        "> $ \\displaystyle \\min_{\\omega, c} \\lvert\\lvert \\omega \\rvert\\rvert_1 + C \\sum_{i=1}^{n} \\log \\left[ \\exp \\left( -y_i \\left( X_i^\\top \\omega + c \\right) \\right) + 1 \\right] \\qquad L_1 \\text{-regularization} $"
      ],
      "metadata": {
        "id": "O0OUOkuwST2n"
      }
    },
    {
      "cell_type": "code",
      "source": [
        "# sigmoid func's derivative\n",
        "#return sigmoid(x) * (1 - sigmoid(x))\n",
        "# \\sigmoid(\\sum w_i x_i + b) gredient against w_i is: (y-y*)sigmoid_prime(\\sum w_i x_i + b) x_i\n",
        "# Generate data\n",
        "n_samples = 100\n",
        "np.random.seed(2018)\n",
        "\n",
        "x = np.random.normal(size=n_samples)\n",
        "y = (x > 0).astype(np.float)\n",
        "x[x > 0] *= 4\n",
        "x += .3 * np.random.normal(size=n_samples)\n",
        "x = x[:, np.newaxis]\n",
        "\n",
        "print('Features: ', x.shape)\n",
        "print('Target: ', y.shape)\n",
        "scatter(x, y, color='black');"
      ],
      "metadata": {
        "id": "8bU__N_cSi02",
        "colab": {
          "base_uri": "https://localhost:8080/",
          "height": 372
        },
        "outputId": "fa69dcbd-db80-4fcb-ce57-e2767bc8d42d"
      },
      "execution_count": null,
      "outputs": [
        {
          "output_type": "stream",
          "name": "stderr",
          "text": [
            "/usr/local/lib/python3.7/dist-packages/ipykernel_launcher.py:6: DeprecationWarning: `np.float` is a deprecated alias for the builtin `float`. To silence this warning, use `float` by itself. Doing this will not modify any behavior and is safe. If you specifically wanted the numpy scalar type, use `np.float64` here.\n",
            "Deprecated in NumPy 1.20; for more details and guidance: https://numpy.org/devdocs/release/1.20.0-notes.html#deprecations\n",
            "  \n"
          ]
        },
        {
          "output_type": "stream",
          "name": "stdout",
          "text": [
            "Features:  (100, 1)\n",
            "Target:  (100,)\n"
          ]
        },
        {
          "output_type": "display_data",
          "data": {
            "image/png": "[encoded data removed]",
            "text/plain": [
              "<Figure size 432x288 with 1 Axes>"
            ]
          },
          "metadata": {
            "needs_background": "light"
          }
        }
      ]
    },
    {
      "cell_type": "code",
      "source": [
        "# fit linear regression, works poorly\n",
        "XX = np.ones((x.shape[0], 2))\n",
        "XX[:,1] = x[:,0]\n",
        "bHat = inv(XX.T.dot(XX)).dot(XX.T).dot(y)\n",
        "b0, b1 = bHat\n",
        "X_test = np.linspace(-5, 10, 300)\n",
        "\n",
        "plot(X_test, b0 + b1 * X_test, linewidth=1);\n",
        "scatter(x, y, color='black');"
      ],
      "metadata": {
        "colab": {
          "base_uri": "https://localhost:8080/",
          "height": 265
        },
        "id": "_PlEvlktQOVT",
        "outputId": "5f221d25-b6d5-4d8c-f242-4c82a74fd18f"
      },
      "execution_count": null,
      "outputs": [
        {
          "output_type": "display_data",
          "data": {
            "image/png": "[encoded data removed]",
            "text/plain": [
              "<Figure size 432x288 with 1 Axes>"
            ]
          },
          "metadata": {
            "needs_background": "light"
          }
        }
      ]
    },
    {
      "cell_type": "code",
      "source": [
        "# fit logistic regression\n",
        "from sklearn.linear_model import LogisticRegression\n",
        "# Fit a logistic regression model\n",
        "clf = LogisticRegression(C=1e5) # Inverse of regularization strength.\n",
        "clf.fit(x, y)\n",
        "def Sigmoid(x):\n",
        "    return 1 / (1 + np.exp(-x))\n",
        "\n",
        "# Predict\n",
        "prob = Sigmoid(clf.intercept_ + clf.coef_ * X_test).ravel()\n",
        "\n",
        "# Plot the result\n",
        "plot(X_test, prob, color='red', linewidth=3)\n",
        "plot(X_test, b0 + b1 * X_test, color='blue', linewidth=1);\n",
        "scatter(x, y, color='black');\n",
        "axhline(0.5, color='0.5');\n",
        "ylim(-0.25, 1.25);\n",
        "yticks([0, 0.5, 1]);\n",
        "legend(('Logistic Regression Model', 'Linear Regression Model'), loc='lower right');"
      ],
      "metadata": {
        "colab": {
          "base_uri": "https://localhost:8080/",
          "height": 265
        },
        "id": "WiA_t0ziRBvB",
        "outputId": "d5c10604-dae5-41f3-f482-9a52ad4dcdb3"
      },
      "execution_count": null,
      "outputs": [
        {
          "output_type": "display_data",
          "data": {
            "image/png": "[encoded data removed]",
            "text/plain": [
              "<Figure size 432x288 with 1 Axes>"
            ]
          },
          "metadata": {
            "needs_background": "light"
          }
        }
      ]
    },
    {
      "cell_type": "markdown",
      "source": [
        "## SVM\n",
        "\n",
        "- Linearly separable\n",
        "> Let $ S_0 $ and $ S_1 $ be two sets of points in an $ n $-dimensional Euclidean space. We say $ S_0 $ and $ S_1 $ are linearly separable if $ \\quad \\exists w_1, w_2, \\cdots, w_n, k \\quad $ such that $ \\qquad \\forall x \\in S_0 $, $ \\displaystyle \\sum_{i=1}^{n} w_i x_i > k \\quad $ and $ \\quad \\forall x \\in S_1 $, $ \\displaystyle \\sum_{i=1}^{n} w_i x_i < k \\quad $ where $ x_i $ is the $ i $-th component of $ x $.\n",
        "\n",
        "- Data\n",
        "> $ \\displaystyle \\{(\\mathbf{x}_i, y_i) \\}_{i=1}^{n} \\qquad $ where $ \\displaystyle \\qquad \\mathbf{x}_i \\in \\mathbb{R}^d, \\  y_i \\in \\{-1, 1 \\} $\n",
        "\n",
        "- Linearly separable if\n",
        "> $ \\displaystyle \\exists (\\mathbf{w}, b) \\quad $ such that $ \\displaystyle \\quad y_i = \\text{sign} \\left(\\langle \\mathbf{w}, \\mathbf{x}_i \\rangle + b \\right) \\quad \\forall i $\n",
        ">\n",
        "> $ \\displaystyle \\exists (\\mathbf{w}, b) \\quad $ such that $ \\displaystyle \\quad y_i \\left(\\langle \\mathbf{w}, \\mathbf{x}_i \\rangle + b \\right) > 0 \\quad \\forall i $\n",
        "\n",
        "- Margin\n",
        "> The margin of a hyperplane w.r.t training data is the minimal distance between a point in the training data and the hyperplane.\n",
        ">\n",
        "> In this sense, if a hyperplane has a large margin, then it still could separate the training data even if we slightly perturb each data point.\n",
        "\n",
        "- Recall\n",
        "> The distance between a point $ \\mathbf{x} $ and the hyperplane defined by $ \\quad (\\mathbf{w}, b) \\quad $ where $ \\quad \\lvert\\lvert \\mathbf{w} \\rvert\\rvert = 1 \\quad $ is $ \\quad \\lvert \\langle \\mathbf{w}, \\mathbf{x} \\rangle + b \\rvert $\n",
        "\n",
        "- **Hard-SVM**: Fit a hyperplane that separates the training data with the largest possible margin\n",
        "> $ \\displaystyle \\min_{\\mathbf{w}, b} \\ \\lvert\\lvert \\mathbf{w} \\rvert\\rvert^2 \\quad $ such that $ \\displaystyle \\quad y_i(\\langle \\mathbf{w}, \\mathbf{x}_i \\rangle + b) > 1 \\quad \\forall i $\n",
        "\n",
        "- **Soft-SVM**: Relax the condition\n",
        "> $ \\displaystyle \\min_{\\mathbf{w}, b, \\zeta} \\lambda \\lvert\\lvert \\mathbf{w} \\rvert\\rvert^2 + \\frac{1}{n} \\sum_{i=1}^{n} \\zeta_i \\qquad $ such that $ \\displaystyle \\quad y_i(\\langle \\mathbf{w}, \\mathbf{x}_i \\rangle + b) \\ge 1 - \\zeta_i \\quad $ where $ \\displaystyle \\quad \\lambda > 0, \\  \\zeta_i \\ge 0 $\n",
        "\n",
        "- Some kernels\n",
        "> Polynomial kernel: $ \\displaystyle \\qquad K(x, x^\\prime) = \\left(1 + \\langle x, x^\\prime \\rangle \\right)^d $\n",
        ">\n",
        "> (Gaussian) radial basis function kernel (RBF): $ \\displaystyle \\qquad K(x, x^\\prime) = \\exp \\left(- \\frac{\\lvert\\lvert x - x^\\prime \\rvert\\rvert^2}{2 \\sigma^2} \\right) = \\exp (- \\gamma \\lvert\\lvert x - x^\\prime \\rvert\\rvert^2) \\qquad $ where $ \\displaystyle \\qquad \\gamma = \\frac{1}{2 \\sigma^2} $\n",
        ">\n",
        ">"
      ],
      "metadata": {
        "id": "r3noV5ejYy9C"
      }
    },
    {
      "cell_type": "code",
      "source": [
        "from sklearn import svm\n",
        "import pandas as pd\n",
        "from sklearn import datasets\n",
        "# Generate 100 separable points\n",
        "x, y = datasets.make_blobs(n_samples=100, centers=2, random_state=3)\n",
        "scatter(x[:,0], x[:,1], c=y);"
      ],
      "metadata": {
        "colab": {
          "base_uri": "https://localhost:8080/",
          "height": 265
        },
        "id": "M_K5nz2zZxlt",
        "outputId": "58fbdca4-484c-40c3-90f3-813a07fa3d74"
      },
      "execution_count": null,
      "outputs": [
        {
          "output_type": "display_data",
          "data": {
            "image/png": "[encoded data removed]",
            "text/plain": [
              "<Figure size 432x288 with 1 Axes>"
            ]
          },
          "metadata": {
            "needs_background": "light"
          }
        }
      ]
    },
    {
      "cell_type": "code",
      "source": [
        "# Fit SVM\n",
        "clf = svm.SVC(kernel='linear', C=1000)\n",
        "clf.fit(x, y)\n",
        "xx = np.linspace(x[:,0].min()-0.5, x[:,0].max()+0.5, 30)\n",
        "yy = np.linspace(x[:,1].min()-0.5, x[:,1].max()+0.5, 30)\n",
        "YY, XX = np.meshgrid(yy, xx)\n",
        "xy = np.vstack([XX.ravel(), YY.ravel()]).T\n",
        "print(xy.shape) # all possible points in this grid\n",
        "Z = clf.decision_function(xy).reshape(XX.shape) # map each x,y point\n",
        "contour(XX, YY, Z, colors='k', levels=[-1, 0, 1], alpha=0.5, linestyles=['--', '-', '--']);\n",
        "scatter(x[:,0], x[:,1], c=y);"
      ],
      "metadata": {
        "colab": {
          "base_uri": "https://localhost:8080/",
          "height": 282
        },
        "id": "BwZOHPVUaGsX",
        "outputId": "e3d95e5e-d982-4416-e229-df507c98fa5b"
      },
      "execution_count": null,
      "outputs": [
        {
          "output_type": "stream",
          "name": "stdout",
          "text": [
            "(900, 2)\n"
          ]
        },
        {
          "output_type": "display_data",
          "data": {
            "image/png": "[encoded data removed]",
            "text/plain": [
              "<Figure size 432x288 with 1 Axes>"
            ]
          },
          "metadata": {
            "needs_background": "light"
          }
        }
      ]
    },
    {
      "cell_type": "markdown",
      "source": [
        "## Clustering\n",
        "### Types of Algorithms\n",
        "- Flat\n",
        "\n",
        ">1. Start with a random partitioning\n",
        ">2. Iterate to improve the grouping\n",
        "\n",
        "- Hierarchical\n",
        "\n",
        ">1. Greedy grouping of closest: bottom up\n",
        ">2. Greedy splitting of farthest: top down"
      ],
      "metadata": {
        "id": "ykw11cSLY3AO"
      }
    },
    {
      "cell_type": "markdown",
      "source": [
        "### K-means clustering\n",
        "\n",
        "### Optimization\n",
        "\n",
        "- Formally, it's an optimization over the possible groupings of objects\n",
        "\n",
        "> For a set of $\\{ x_l \\}$ where $x_l\\in \\mathbb{R}^d$ for all $l$\n",
        "><br>\n",
        "><br>\n",
        ">$\\displaystyle  \\hat{{C}} = \\textrm{arg}\\min_{{C}} \\sum_{i=1}^k \\left[\\ \\sum_{x\\in{}C_i}\\ \\lvert\\!\\lvert x-\\mu_i\\rvert\\!\\rvert^2 \\right] $\n",
        "><br>\n",
        "><br>\n",
        "> where\n",
        "><br>\n",
        "><br>\n",
        ">$\\displaystyle  \\mu_i = \\frac{1}{\\lvert{C_i}\\rvert}\\sum_{x\\in{}C_i} x $"
      ],
      "metadata": {
        "id": "i9ohL6-ObiwD"
      }
    },
    {
      "cell_type": "code",
      "source": [
        "%pylab inline\n",
        "from sklearn import datasets\n",
        "\n",
        "iris = datasets.load_iris()\n",
        "X = iris.data[:,:2]\n",
        "# only the first 2 features\n",
        "\n",
        "scatter(X[:,0],X[:,1]);"
      ],
      "metadata": {
        "colab": {
          "base_uri": "https://localhost:8080/",
          "height": 357
        },
        "id": "HCin8v5UbwVR",
        "outputId": "53958a5c-abc6-412f-8256-a30b854085d0"
      },
      "execution_count": null,
      "outputs": [
        {
          "output_type": "stream",
          "name": "stdout",
          "text": [
            "Populating the interactive namespace from numpy and matplotlib\n"
          ]
        },
        {
          "output_type": "stream",
          "name": "stderr",
          "text": [
            "/usr/local/lib/python3.7/dist-packages/IPython/core/magics/pylab.py:161: UserWarning: pylab import has clobbered these variables: ['clf']\n",
            "`%matplotlib` prevents importing * from pylab and numpy\n",
            "  \"\\n`%matplotlib` prevents importing * from pylab and numpy\"\n"
          ]
        },
        {
          "output_type": "display_data",
          "data": {
            "image/png": "[encoded data removed]",
            "text/plain": [
              "<Figure size 432x288 with 1 Axes>"
            ]
          },
          "metadata": {
            "needs_background": "light"
          }
        }
      ]
    },
    {
      "cell_type": "code",
      "source": [
        "from sklearn.cluster import KMeans\n",
        "\n",
        "kmeans = KMeans(init='random', n_clusters=3, n_init=100)\n",
        "kmeans.fit(X)\n",
        "\n",
        "figure(figsize=(6,6)); ax=subplot(aspect='equal')\n",
        "scatter(X[:,0],X[:,1],c=kmeans.labels_,cmap=cm.rainbow);\n",
        "\n",
        "C = kmeans.cluster_centers_\n",
        "scatter(C[:,0],C[:,1],c='k',marker='o',s=300,alpha=0.5,edgecolor='none');"
      ],
      "metadata": {
        "colab": {
          "base_uri": "https://localhost:8080/",
          "height": 273
        },
        "id": "jYAyZvBzbtMw",
        "outputId": "4c31e67c-0551-4923-ba66-455b84930d77"
      },
      "execution_count": null,
      "outputs": [
        {
          "output_type": "display_data",
          "data": {
            "image/png": "[encoded data removed]",
            "text/plain": [
              "<Figure size 432x432 with 1 Axes>"
            ]
          },
          "metadata": {
            "needs_background": "light"
          }
        }
      ]
    },
    {
      "cell_type": "code",
      "source": [
        "# Step size of the mesh.\n",
        "h = .005    # point in the mesh [x_min, m_max]x[y_min, y_max].\n",
        "\n",
        "# Plot the decision boundary. For that, we will assign a color to each\n",
        "x_min, x_max = X[:, 0].min() -.5, X[:, 0].max() +.5\n",
        "y_min, y_max = X[:, 1].min() -.5, X[:, 1].max() +.5\n",
        "xx, yy = np.meshgrid(np.arange(x_min, x_max, h), np.arange(y_min, y_max, h))\n",
        "\n",
        "# Obtain labels for each point in mesh. Use last trained model.\n",
        "P = kmeans.predict(np.c_[xx.ravel(), yy.ravel()])\n",
        "\n",
        "# Put the result into a color plot\n",
        "P = P.reshape(xx.shape)\n",
        "figure(figsize=(6,6)); subplot(111,aspect='equal')\n",
        "plt.clf()\n",
        "\n",
        "plt.imshow(P, interpolation='nearest',\n",
        "           extent=(xx.min(), xx.max(), yy.min(), yy.max()),\n",
        "           cmap=plt.cm.Paired,\n",
        "           aspect='equal', origin='lower', alpha=0.7)\n",
        "\n",
        "plt.scatter(X[:, 0], X[:, 1], c='k', alpha=0.7)\n",
        "\n",
        "# Plot the centroids as a white X\n",
        "centroids = kmeans.cluster_centers_\n",
        "plt.scatter(centroids[:, 0], centroids[:, 1],\n",
        "            marker='x', s=169, linewidths=3,\n",
        "            color='w', zorder=10, alpha=0.8)\n",
        "\n",
        "plt.xlim(x_min, x_max);\n",
        "plt.ylim(y_min, y_max);"
      ],
      "metadata": {
        "colab": {
          "base_uri": "https://localhost:8080/",
          "height": 295
        },
        "id": "1Epe3X7Bb94B",
        "outputId": "ebae3a0f-5652-4e17-8d8c-272afcde257f"
      },
      "execution_count": null,
      "outputs": [
        {
          "output_type": "display_data",
          "data": {
            "image/png": "[encoded data removed]",
            "text/plain": [
              "<Figure size 432x432 with 1 Axes>"
            ]
          },
          "metadata": {
            "needs_background": "light"
          }
        }
      ]
    },
    {
      "cell_type": "code",
      "source": [
        "# kmeans from scratch\n",
        "iris = datasets.load_iris()\n",
        "X = iris.data[:,:2]\n",
        "num_samples = X.shape[0]\n",
        "k = 3\n",
        "# randomly pick 3 sample from X as pivots\n",
        "centers = np.random.choice(num_samples, k)\n",
        "centroids = [X[center, :] for center in centers]\n",
        "assignments = np.zeros((num_samples, ))\n",
        "it = 0\n",
        "while it < 10:\n",
        "    for i in range(num_samples):\n",
        "        cur_data = X[i, :]\n",
        "        closest = np.inf\n",
        "        cluster_id = -1\n",
        "        for center_idx, pivot in enumerate(centroids):\n",
        "            dist = np.sum(np.square(cur_data - pivot))\n",
        "            if dist < closest:\n",
        "                closest = dist\n",
        "                cluster_id = center_idx\n",
        "        assignments[i] = cluster_id\n",
        "    # compute new center\n",
        "    for center in [_ for _ in range(k)]:\n",
        "        group = X[(assignments == center)]\n",
        "        centroids[center] = group.mean(axis=0)\n",
        "    print(centroids)\n",
        "    it += 1"
      ],
      "metadata": {
        "colab": {
          "base_uri": "https://localhost:8080/"
        },
        "id": "O2bDD7O3cnBZ",
        "outputId": "838d52f6-e55e-41ea-a47a-6f69a8ff0978"
      },
      "execution_count": null,
      "outputs": [
        {
          "output_type": "stream",
          "name": "stdout",
          "text": [
            "[array([4.9877551 , 3.06326531]), array([5.495, 3.705]), array([6.44691358, 2.89382716])]\n",
            "[array([5.036, 2.972]), array([5.35714286, 3.74285714]), array([6.4835443 , 2.92911392])]\n",
            "[array([5.08979592, 2.89591837]), array([5.268, 3.704]), array([6.51842105, 2.94868421])]\n",
            "[array([5.2  , 2.818]), array([5.19666667, 3.66      ]), array([6.58, 2.97])]\n",
            "[array([5.21914894, 2.78510638]), array([5.16969697, 3.63030303]), array([6.58, 2.97])]\n",
            "[array([5.28333333, 2.73571429]), array([5.10526316, 3.57368421]), array([6.58, 2.97])]\n",
            "[array([5.445 , 2.6725]), array([5.04318182, 3.50454545]), array([6.61818182, 2.99242424])]\n",
            "[array([5.58974359, 2.64102564]), array([5.01632653, 3.45102041]), array([6.65645161, 3.00806452])]\n",
            "[array([5.65      , 2.64772727]), array([5.01632653, 3.45102041]), array([6.70350877, 3.03508772])]\n",
            "[array([5.70408163, 2.66122449]), array([5.01632653, 3.45102041]), array([6.75384615, 3.05961538])]\n"
          ]
        }
      ]
    },
    {
      "cell_type": "markdown",
      "source": [
        "## Gaussian Mixtrue Models\n",
        "\n",
        "- A probabilistic approach to clustering\n",
        "\n",
        "> Infer the parameters of $k$ **components**\n",
        "\n",
        "- For example, a mixture of two Gaussians ($k\\!=\\!2$)\n",
        "\n",
        "> **Parameters** $\\boldsymbol{\\theta}$ are $(\\mu_1,\\Sigma_1),\\ (\\mu_2,\\Sigma_2)$ and the<br>\n",
        "> cluster membership probabilities $\\boldsymbol{\\kappa}$\n",
        "- Difficult because of the unknown cluster memberships $\\boldsymbol{\\kappa}$\n",
        "\n",
        "## GMM with k=2\n",
        "\n",
        "> $\\kappa_i$ is the probability of that $x_i$ belongs to component 1 <br>\n",
        "> $(1\\!-\\!\\kappa_i)$ is the prob of belonging to component 2\n",
        "\n",
        "- Likelihood function\n",
        "\n",
        ">$\\displaystyle L(\\boldsymbol{\\theta};\\boldsymbol{x}) = \\prod_{i=1}^n \\Big[ \\kappa_i\\, G\\left(x_i;\\mu_1,\\Sigma_1\\right) + (1\\!-\\!\\kappa_i)\\, G\\left(x_i; \\mu_2,\\Sigma_2\\right)\\Big]$\n",
        "\n",
        "## Expectation-Maximization Algorithm\n",
        "\n",
        "- The EM algorithm is a general framework\n",
        "\n",
        ">1. Create an initial model $\\theta$\n",
        ">2. Find a better $\\theta'$ s.t. <br>\n",
        "> the likelihood improves: $p(D\\mid\\theta') > p(D\\mid\\theta)$ <br/>\n",
        "> (or the posterior)\n",
        ">3. Repeat until convergence\n",
        "\n",
        "## E-step\n",
        "\n",
        "- Estimate the membership probabilities $\\boldsymbol{\\kappa}$\n",
        "\n",
        "> Based on the current model $(\\mu_1,\\mu_2,\\Sigma_1,\\Sigma_2)$ and data $\\boldsymbol{x}$\n",
        "\n",
        "## M-step\n",
        "\n",
        "- Maximize the likelihood function  \n",
        "\n",
        "> Based on the estimated membership probabilities $\\boldsymbol{\\kappa}$, obtain better $(\\mu_1,\\mu_2,\\Sigma_1,\\Sigma_2)$ estimates\n",
        "\n",
        "- In spirit, this is not completely unlike $k$-means clustering algorithm"
      ],
      "metadata": {
        "id": "zwDxMHlwk4JZ"
      }
    },
    {
      "cell_type": "code",
      "source": [
        "from sklearn.mixture import GaussianMixture\n",
        "from sklearn import datasets\n",
        "from matplotlib.patches import Ellipse\n",
        "\n",
        "iris = datasets.load_iris()\n",
        "X = iris.data[:,:2] # only 2 features\n",
        "\n",
        "gmm = GaussianMixture(n_components=2)\n",
        "gmm.fit(X)\n",
        "Cpred = gmm.predict(X)\n",
        "\n",
        "ax = subplot(111, aspect='equal')\n",
        "scatter(X[:,0], X[:,1], c=Cpred, cmap=cm.rainbow, alpha=0.7)\n",
        "# visualization of the two components (gaussian)\n",
        "for n in arange(gmm.n_components):\n",
        "    cov = gmm.covariances_[n][:2,:2]\n",
        "    v, w = np.linalg.eigh(cov)\n",
        "    angle = 180/pi * arctan2(w[0,1],w[0,0])\n",
        "    for i in range(1,4): # of contours\n",
        "        a = 2*i*np.sqrt(v)\n",
        "        ell = Ellipse(gmm.means_[n,:2], a[0],a[1], angle)\n",
        "        ell.set_alpha(0.2)\n",
        "        ax.add_artist(ell)"
      ],
      "metadata": {
        "colab": {
          "base_uri": "https://localhost:8080/",
          "height": 268
        },
        "id": "ZceIceMsjmCv",
        "outputId": "e41c531d-629b-4f39-a8de-c460803f80f0"
      },
      "execution_count": null,
      "outputs": [
        {
          "output_type": "display_data",
          "data": {
            "image/png": "[encoded data removed]",
            "text/plain": [
              "<Figure size 432x288 with 1 Axes>"
            ]
          },
          "metadata": {
            "needs_background": "light"
          }
        }
      ]
    },
    {
      "cell_type": "markdown",
      "source": [
        "# Others"
      ],
      "metadata": {
        "id": "ttF93n2q5-EE"
      }
    },
    {
      "cell_type": "markdown",
      "source": [
        "## Sparse matrix with row reduce formation or colum reduce format"
      ],
      "metadata": {
        "id": "fifQroBr6ADO"
      }
    },
    {
      "cell_type": "code",
      "source": [
        "import numpy as np"
      ],
      "metadata": {
        "id": "2jqOwewA8Ij9"
      },
      "execution_count": null,
      "outputs": []
    },
    {
      "cell_type": "code",
      "source": [
        "class SparseMatrix:\n",
        "    def __init__(self, row, column):\n",
        "        self.r, self.c = row, column\n",
        "        max_ele = 100 # hardcode\n",
        "        self.M = np.zeros((max_ele, 3))\n",
        "        self.len = 0\n",
        "\n",
        "    def insert(self, i, j, val):\n",
        "        self.M[self.len][0] = i\n",
        "        self.M[self.len][1] = j\n",
        "        self.M[self.len][2] = val\n",
        "        self.len += 1\n",
        "\n",
        "    def multiply(self, other):\n",
        "        # perform transpose of other first\n",
        "        other_T = other.transpose()\n",
        "        out = SparseMatrix(self.r, self.c)\n",
        "        for i in range(self.len):\n",
        "            row_idx, col_idx, x_val = self.M[i][0], self.M[i][1], self.M[i][2]\n",
        "            for j in range(other_T.len):\n",
        "                other_row_idx, other_col_idx, y_val = other_T.M[j][0], other_T.M[j][1], other_T.M[j][2]\n",
        "                if col_idx == other_col_idx: # corresponding entry in two matrix\n",
        "                    out.insert(row_idx, other_row_idx, x_val*y_val)\n",
        "        return out\n",
        "\n",
        "\n",
        "    def transpose(self):\n",
        "        for i in range(self.len):\n",
        "            temp = self.M[i][0]\n",
        "            self.M[i][0] = self.M[i][1]\n",
        "            self.M[i][1] = temp\n",
        "        return self\n",
        "\n",
        "    def __str__(self) -> str:\n",
        "        return str(self.M[:self.len, :])\n",
        "\n",
        "\n"
      ],
      "metadata": {
        "id": "-nG8-gIn6Hc3"
      },
      "execution_count": null,
      "outputs": []
    },
    {
      "cell_type": "code",
      "source": [
        "sm1 = SparseMatrix(4,4)\n",
        "sm1.insert(1,2, 10)\n",
        "sm1.insert(1,4, 12)\n",
        "sm1.insert(3,3, 5)\n",
        "sm1.insert(4,1, 15)\n",
        "sm1.insert(4,2, 12)\n",
        "print(sm1)\n",
        "\n",
        "sm2 = SparseMatrix(4,4)\n",
        "sm2.insert(1,3, 8)\n",
        "sm2.insert(2,4, 23)\n",
        "sm2.insert(3,3, 9)\n",
        "sm2.insert(4,1, 20)\n",
        "sm2.insert(4,2, 25)\n",
        "print(sm2)\n",
        "\n",
        "\n",
        "result = sm1.multiply(sm2)\n",
        "print(result)"
      ],
      "metadata": {
        "colab": {
          "base_uri": "https://localhost:8080/"
        },
        "id": "NFZHq-DA8Cve",
        "outputId": "cbcfd09a-72b2-4626-da11-c8c6bc98c20f"
      },
      "execution_count": null,
      "outputs": [
        {
          "output_type": "stream",
          "name": "stdout",
          "text": [
            "[[ 1.  2. 10.]\n",
            " [ 1.  4. 12.]\n",
            " [ 3.  3.  5.]\n",
            " [ 4.  1. 15.]\n",
            " [ 4.  2. 12.]]\n",
            "[[ 1.  3.  8.]\n",
            " [ 2.  4. 23.]\n",
            " [ 3.  3.  9.]\n",
            " [ 4.  1. 20.]\n",
            " [ 4.  2. 25.]]\n",
            "[[  1.   4. 230.]\n",
            " [  1.   1. 240.]\n",
            " [  1.   2. 300.]\n",
            " [  3.   3.  45.]\n",
            " [  4.   3. 120.]\n",
            " [  4.   4. 276.]]\n"
          ]
        }
      ]
    },
    {
      "cell_type": "markdown",
      "source": [
        "## Sorting"
      ],
      "metadata": {
        "id": "MGf5pdEr-7YZ"
      }
    },
    {
      "cell_type": "markdown",
      "source": [
        "### Quick Sort"
      ],
      "metadata": {
        "id": "fbv2Rp6A_M6N"
      }
    },
    {
      "cell_type": "code",
      "source": [
        "import random\n",
        "def sortArray(nums):\n",
        "    # quicksort\n",
        "    quicksort(nums, 0, len(nums)-1)\n",
        "    return nums\n",
        "\n",
        "def quicksort(nums, l, r):\n",
        "    # p is the point that we partition the array\n",
        "    if r <= l:\n",
        "        return\n",
        "    p = random.randint(l, r)\n",
        "    # swap p to the left\n",
        "    nums[p],  nums[l] = nums[l], nums[p]\n",
        "    pivot = nums[l]\n",
        "    j = l\n",
        "    for i in range(l + 1, r + 1):\n",
        "        if nums[i] < pivot:\n",
        "            j += 1\n",
        "            #swap the value in these index\n",
        "            nums[i], nums[j] = nums[j], nums[i]\n",
        "\n",
        "    nums[l], nums[j] = nums[j], nums[l]\n",
        "    # j is the partition index and we perform quicksort separated by j\n",
        "    quicksort(nums, l, j-1)\n",
        "    quicksort(nums, j+1, r)\n",
        "\n",
        "x = [1,3,4,2,5,9,8,20,7]\n",
        "sortArray(x)"
      ],
      "metadata": {
        "colab": {
          "base_uri": "https://localhost:8080/"
        },
        "id": "KuHGfsUH-9Xq",
        "outputId": "6ade0df5-4587-4a18-8a22-493809d10185"
      },
      "execution_count": null,
      "outputs": [
        {
          "output_type": "execute_result",
          "data": {
            "text/plain": [
              "[1, 2, 3, 4, 5, 7, 8, 9, 20]"
            ]
          },
          "metadata": {},
          "execution_count": 6
        }
      ]
    },
    {
      "cell_type": "markdown",
      "source": [
        "### merge sort"
      ],
      "metadata": {
        "id": "3r79XBSnAbxT"
      }
    },
    {
      "cell_type": "code",
      "source": [
        "def sortArray(nums):\n",
        "    return mergesort(nums)\n",
        "\n",
        "def mergesort(part):\n",
        "    # reached the bottom, base case\n",
        "    n = len(part)\n",
        "    if n < 2:\n",
        "        return part\n",
        "    if n == 2:\n",
        "        if part[0] < part[1]:\n",
        "            return part\n",
        "        else:\n",
        "            part.reverse()\n",
        "            return part\n",
        "    mid = n // 2\n",
        "    # divide and conquer, each temp is expected to be a sort array\n",
        "    temp1 = mergesort(part[:mid])\n",
        "    temp2 = mergesort(part[mid:])\n",
        "\n",
        "    # merge the two array sorted above\n",
        "    res = []\n",
        "    idx1, idx2 = 0, 0\n",
        "    while idx1 < len(temp1) and idx2 < len(temp2):\n",
        "        if temp1[idx1] < temp2[idx2]:\n",
        "            res.append(temp1[idx1])\n",
        "            idx1 += 1\n",
        "        else:\n",
        "            res.append(temp2[idx2])\n",
        "            idx2 += 1\n",
        "    # always check if there is remaining stuff in either list\n",
        "    while idx1 < len(temp1):\n",
        "        res.append(temp1[idx1])\n",
        "        idx1 += 1\n",
        "    while idx2 < len(temp2):\n",
        "        res.append(temp2[idx2])\n",
        "        idx2 += 1\n",
        "    return res\n",
        "\n",
        "x = [1,3,4,2,5,9,8,20,7]\n",
        "sortArray(x)"
      ],
      "metadata": {
        "colab": {
          "base_uri": "https://localhost:8080/"
        },
        "id": "1k3MizpfAhIS",
        "outputId": "d77152d9-a54d-415f-deab-fc4c599ece87"
      },
      "execution_count": null,
      "outputs": [
        {
          "output_type": "execute_result",
          "data": {
            "text/plain": [
              "[1, 2, 3, 4, 5, 7, 8, 9, 20]"
            ]
          },
          "metadata": {},
          "execution_count": 8
        }
      ]
    },
    {
      "cell_type": "markdown",
      "source": [
        "## Searching"
      ],
      "metadata": {
        "id": "gyR5T1ZbU4mD"
      }
    },
    {
      "cell_type": "code",
      "source": [
        "# binary search, most common approach used\n",
        "def search(nums, target):\n",
        "    start = 0\n",
        "    end = len(nums)-1\n",
        "    while start <= end:\n",
        "        mid = start + (end - start)//2 # equivalent of floor operation\n",
        "        if nums[mid] == target:\n",
        "            return mid\n",
        "        elif nums[mid] < target:\n",
        "            start = mid + 1\n",
        "        else:\n",
        "            end = mid - 1\n",
        "    return -1"
      ],
      "metadata": {
        "id": "VBIw_gJGVAis"
      },
      "execution_count": null,
      "outputs": []
    },
    {
      "cell_type": "code",
      "source": [
        "# square root can be thought of a binary search, where we check the mid*2\n",
        "def mySqrt(x: int) -> int:\n",
        "    small = 0\n",
        "    large = x\n",
        "\n",
        "    while small <= large:\n",
        "        mid = small + (large - small)//2\n",
        "        if mid*mid == x:\n",
        "            return mid\n",
        "        elif mid*mid < x:\n",
        "            small = mid + 1\n",
        "        else:\n",
        "            large = mid - 1\n",
        "    return small - 1\n",
        "\n",
        "# power operation is the same\n",
        "def myPow(x, n):\n",
        "    if n == 1: return x\n",
        "    if n == 0: return 1\n",
        "    if n < 0: return myPow(1/x, -1*n)\n",
        "    if n % 2 == 1: return x*myPow(x, n-1)\n",
        "    return myPow(x*x, n/2)\n",
        "myPow(2, -3)"
      ],
      "metadata": {
        "colab": {
          "base_uri": "https://localhost:8080/"
        },
        "id": "kqKGTkmYVPgn",
        "outputId": "f63588ed-60ce-45d3-b8c7-45b616f397c0"
      },
      "execution_count": null,
      "outputs": [
        {
          "output_type": "execute_result",
          "data": {
            "text/plain": [
              "0.125"
            ]
          },
          "metadata": {},
          "execution_count": 24
        }
      ]
    },
    {
      "cell_type": "markdown",
      "source": [
        "## List, reverse nodes in k groups"
      ],
      "metadata": {
        "id": "yWZwqnoACO_V"
      }
    },
    {
      "cell_type": "code",
      "source": [
        "# first define node class\n",
        "class ListNode:\n",
        "    def __init__(self, next=None, val=0):\n",
        "        self.next = next\n",
        "        self.val = val\n",
        "\n",
        "    def __str__(self):\n",
        "        vals = []\n",
        "        cur = self\n",
        "        vals.append(cur.val)\n",
        "        while cur.next is not None:\n",
        "            cur = cur.next\n",
        "            vals.append(cur.val)\n",
        "        return str(vals)\n",
        "\n",
        "\n",
        "def reverseKGroup(head, k):\n",
        "    # as long as we have k elements left,  we reverse them\n",
        "    if not head: return head\n",
        "    # iterate through to check how many nodes we have\n",
        "    count = 0\n",
        "    cur = head\n",
        "    while cur:\n",
        "        count+=1\n",
        "        cur = cur.next\n",
        "\n",
        "    itr = count // k\n",
        "    sentinal = ListNode(next=head)\n",
        "    cur = sentinal\n",
        "    while itr != 0:\n",
        "        itr -= 1\n",
        "        # reverse k nodes from cur to cur+k\n",
        "        cur = reverse_node(cur,  k)\n",
        "    return sentinal.next\n",
        "\n",
        "def reverse_node(node, k):\n",
        "    # sps we have 2->3->4, k=2, we want it become 4->3-2\n",
        "    begin = node # begin is initialized to be 2\n",
        "    cur = begin.next.next # 4\n",
        "    prev = begin.next # 3\n",
        "    while k > 1:\n",
        "        next = cur.next # None\n",
        "        cur.next = prev # 4->3, connect backward\n",
        "        prev = cur # prev=4, for next update\n",
        "        cur = next # cur=None\n",
        "        k -= 1\n",
        "    output = begin.next # begin is 2, begin's next is still 3\n",
        "    output.next = cur # 3->None\n",
        "    begin.next = prev # 2->4, now we have 2->4->3->None\n",
        "    return output\n",
        "\n",
        "# we want to reverse every k node in the list\n",
        "start = ListNode(val=0)\n",
        "ele1 = ListNode(val=1)\n",
        "start.next = ele1\n",
        "ele2 = ListNode(val=2)\n",
        "ele1.next = ele2\n",
        "ele3 = ListNode(val=3)\n",
        "ele2.next = ele3\n",
        "ele4 = ListNode(val=4)\n",
        "ele3.next = ele4\n",
        "print(start) # 0->1->2->3->4\n",
        "reverse_start = reverseKGroup(start, 2)\n",
        "print(reverse_start) # 1->0->3->2->4, every other 2 nodes are swapped"
      ],
      "metadata": {
        "colab": {
          "base_uri": "https://localhost:8080/"
        },
        "id": "JyaVHRBeCOdJ",
        "outputId": "c9eb3d7f-9e99-4e9e-c949-f58548848c0e"
      },
      "execution_count": null,
      "outputs": [
        {
          "output_type": "stream",
          "name": "stdout",
          "text": [
            "[0, 1, 2, 3, 4]\n",
            "[1, 0, 3, 2, 4]\n"
          ]
        }
      ]
    },
    {
      "cell_type": "code",
      "source": [
        "# fast and slow pointers to find cycle\n",
        "def hasCycle(self, head: ListNode) -> bool:\n",
        "    slow, fast = head, head\n",
        "    # if fast is null before it reaches the slower one\n",
        "    while fast and fast.next:\n",
        "        slow = slow.next\n",
        "        fast = fast.next.next\n",
        "        if slow == fast:\n",
        "            return True\n",
        "    return False\n",
        "\n",
        "def detectCycle(self, head: ListNode) -> ListNode:\n",
        "    # we first need to find out the meeting point\n",
        "    slow, fast, start = head, head, head\n",
        "    # if fast is null before it reaches the slower one\n",
        "    while fast and fast.next:\n",
        "        slow = slow.next\n",
        "        fast = fast.next.next\n",
        "        if slow == fast:\n",
        "            # after slow and fast pointer meet, we get a new pointer at the start\n",
        "            # start to move both start and slow pointer unti they meet\n",
        "            while start != slow:\n",
        "                start = start.next\n",
        "                slow = slow.next\n",
        "            return start\n",
        "    return None"
      ],
      "metadata": {
        "id": "CEwaR65IOXUj"
      },
      "execution_count": null,
      "outputs": []
    },
    {
      "cell_type": "markdown",
      "source": [
        "## Two Pointers"
      ],
      "metadata": {
        "id": "3U5v77IbI4-m"
      }
    },
    {
      "cell_type": "code",
      "source": [
        "def maxSubArray(self, nums):\n",
        "    # we take a slice a subarray and compute its sum from the start\n",
        "    # solution is O(N)\n",
        "    prev_sum, largest_sum = nums[0], nums[0]\n",
        "    for i in range(1, len(nums)):\n",
        "        cur_num = nums[i]\n",
        "        if prev_sum < 0:\n",
        "            # always replace with current value since negative value has no use\n",
        "            prev_sum = cur_num\n",
        "            if prev_sum > largest_sum:\n",
        "                largest_sum = prev_sum\n",
        "        else:\n",
        "            prev_sum += cur_num\n",
        "            # update largest sum\n",
        "            if prev_sum > largest_sum:\n",
        "                largest_sum = prev_sum\n",
        "    return largest_sum"
      ],
      "metadata": {
        "id": "s-FD7kl2I7bR"
      },
      "execution_count": null,
      "outputs": []
    },
    {
      "cell_type": "code",
      "source": [
        "def totalFruit(self, tree):\n",
        "    # reframe the question: we are trying to find maxlen of subarray with at most 2 distinct values\n",
        "    # it's common to track two pointers moving from left together so it's O(N),\n",
        "    # if we go from different side, then it's O(N^2) that checks all possible subarray\n",
        "    fruits = []\n",
        "    left, right, max_fruit = 0, 0, 0\n",
        "    fruits.append(tree[0])\n",
        "    for i in range(1, len(tree)):\n",
        "        if tree[i] in fruits:\n",
        "            fruits.append(tree[i])\n",
        "        else:\n",
        "            # fruit set already has 2 kinds of fruit\n",
        "            while (len(set(fruits)) == 2):\n",
        "                left += 1\n",
        "                fruits.pop(0)\n",
        "            fruits.append(tree[i])\n",
        "        right = i\n",
        "        if right - left > max_fruit:\n",
        "            max_fruit = right - left\n",
        "    return max_fruit + 1"
      ],
      "metadata": {
        "id": "GNwHrbrqJUjQ"
      },
      "execution_count": null,
      "outputs": []
    },
    {
      "cell_type": "markdown",
      "source": [
        "## Graph Algorithm"
      ],
      "metadata": {
        "id": "cATwmTNuX51K"
      }
    },
    {
      "cell_type": "markdown",
      "source": [
        "### Dijkstra's algorithm"
      ],
      "metadata": {
        "id": "93uCNxiQX_3x"
      }
    },
    {
      "cell_type": "code",
      "source": [
        "def networkDelayTime(times, N, K):\n",
        "    graph = collections.defaultdict(list)\n",
        "    for u, v, w in times:\n",
        "        graph[u].append((v, w))\n",
        "    # heap queue implementation\n",
        "    pq = [(0, K)]\n",
        "    dist = {}\n",
        "    while pq: # traverse all edges O(E)\n",
        "        # log(V) operation for pop and push\n",
        "        # Complexity is O(ElogV)\n",
        "        d, node = heapq.heappop(pq)\n",
        "        if node in dist: continue # already visited node\n",
        "        dist[node] = d\n",
        "        for nei, d2 in graph[node]:\n",
        "            if nei not in dist:\n",
        "                heapq.heappush(pq, (d+d2, nei))\n",
        "\n",
        "    return max(dist.values()) if len(dist) == N else -1 # -1 means not able to reach all node"
      ],
      "metadata": {
        "id": "OWCZEjPhX8Fu"
      },
      "execution_count": null,
      "outputs": []
    },
    {
      "cell_type": "markdown",
      "source": [
        "### Binary Tree BFS"
      ],
      "metadata": {
        "id": "DdtDsb736lK3"
      }
    },
    {
      "cell_type": "code",
      "source": [
        "  # Breadth First Search that traverse through each level\n",
        "  def levelOrder(root: TreeNode):\n",
        "      queue = []\n",
        "      if not root:\n",
        "          return []\n",
        "      queue.append(root)\n",
        "      output = [[root.val]]\n",
        "      # need a second queue because we need to pop out the current one for the whole level\n",
        "      while queue:\n",
        "          temp = []\n",
        "          temp_queue = []\n",
        "          for top in queue:\n",
        "              if top.left:\n",
        "                  temp_queue.append(top.left)\n",
        "                  temp.append(top.left.val)\n",
        "              if top.right:\n",
        "                  temp_queue.append(top.right)\n",
        "                  temp.append(top.right.val)\n",
        "          queue = temp_queue\n",
        "          if len(temp) > 0:\n",
        "              output.append(temp)\n",
        "  return output"
      ],
      "metadata": {
        "id": "a1tyJlay6o9P"
      },
      "execution_count": null,
      "outputs": []
    },
    {
      "cell_type": "code",
      "source": [
        "# in grid representation, a common trick to use is to search nearby points by dx, dy\n",
        "def orangesRotting(grid):\n",
        "    while queue:\n",
        "        day += 1\n",
        "        # start making other oranges rotton\n",
        "        for i,j in queue:\n",
        "            for dx, dy in [(1,0), (-1,0), (0,1),(0,-1)]:\n",
        "                if 0 <= i+dx < row and 0<=j +dy < col and (not visited[i+dx][j+dy]):\n",
        "                    # new rotton oranges\n",
        "                    if grid[i+dx][j+dy] == 1:\n",
        "                        # temp is the next traversal (next level in BST)\n",
        "                        temp.append((i+dx, j+dy))\n",
        "                        visited[i+dx][j+dy] = True\n",
        "                        # the position is rotton now\n",
        "                        grid[i+dx][j+dy] = 2\n",
        "        queue = temp\n",
        "        temp = []\n",
        "\n",
        "    return day-1 if self.get_visited(visited) == total else -1"
      ],
      "metadata": {
        "id": "L9iGWKzz7A7u"
      },
      "execution_count": null,
      "outputs": []
    },
    {
      "cell_type": "markdown",
      "source": [
        "### DFS"
      ],
      "metadata": {
        "id": "g0xB6TAi6lQp"
      }
    },
    {
      "cell_type": "code",
      "source": [
        "# classical path sum algorithm\n",
        "def hasPathSum(self, root: TreeNode, sum: int) -> bool:\n",
        "    return self.DFS(root, sum)\n",
        "\n",
        "def DFS(self, node: TreeNode, left: int) -> bool:\n",
        "    # check we reach a leaf\n",
        "    if not node:\n",
        "        return False\n",
        "    if not node.left and not node.right:\n",
        "        return True if left - node.val == 0 else False\n",
        "\n",
        "    # check left subnode and right subnode\n",
        "    return self.DFS(node.left, left-node.val) or self.DFS(node.right,left-node.val)"
      ],
      "metadata": {
        "id": "A58R9PcG9QQ0"
      },
      "execution_count": null,
      "outputs": []
    },
    {
      "cell_type": "code",
      "source": [
        "# path sum II (with backtracking to find all root-to-leaf paths)\n",
        "def pathSum(self, root: TreeNode, sum: int) -> List[List[int]]:\n",
        "    output = []\n",
        "    temp = []\n",
        "    self.DFS(root, sum, output, temp)\n",
        "    return output\n",
        "def DFS(self, node: TreeNode, left: int, output: List, temp: List):\n",
        "    if not node:\n",
        "        return False\n",
        "    if not node.right and not node.left:\n",
        "        # we reach the leaf\n",
        "        if left - node.val == 0:\n",
        "            temp.append(node.val)\n",
        "            output.append(temp.copy()) # find one legit path\n",
        "            temp.pop() # might has other legit path, pop the added val just like backtrackking\n",
        "    # case 1: not reach leaf so we directly append the value\n",
        "    # case 2: reach leaf and already found the path, we still add val back and next it we return False\n",
        "    # case 3: reach leaf and didn't pass the sum check, doesn't matter if we append here or not\n",
        "    temp.append(node.val)  # so really this is only meaningful in case 1\n",
        "    self.DFS(node.left, left-node.val, output, temp)\n",
        "    self.DFS(node.right, left-node.val, output, temp)\n",
        "    # this node shouldnt be in temp after both children are checked\n",
        "    temp.pop()"
      ],
      "metadata": {
        "id": "NA1ANsnE9a2k"
      },
      "execution_count": null,
      "outputs": []
    },
    {
      "cell_type": "code",
      "source": [
        "# longest path in DAG:\n",
        "def dfs(node, adj, dp, vis):\n",
        "    # Mark as visited\n",
        "    vis[node] = True\n",
        "    # Traverse for all its children\n",
        "    for i in range(0, len(adj[node])):\n",
        "        # If not visited\n",
        "        if not vis[adj[node][i]]:\n",
        "            dfs(adj[node][i], adj, dp, vis)\n",
        "\n",
        "        # Store the max of the paths\n",
        "        # 1+adj node's length compared with cur position's length\n",
        "        dp[node] = max(dp[node], 1 + dp[adj[node][i]])"
      ],
      "metadata": {
        "id": "viWJPPfi_FU0"
      },
      "execution_count": null,
      "outputs": []
    },
    {
      "cell_type": "markdown",
      "source": [
        "### Topological Sort"
      ],
      "metadata": {
        "id": "FtH1RsoZTmIg"
      }
    },
    {
      "cell_type": "code",
      "source": [
        "# sorting method for DAG, goes from node that has no parent\n",
        "def canFinish(numCourses, prerequisites):\n",
        "    # have a map, key is course num, val is num of prereqs\n",
        "    m = [[] for _ in range(numCourses)]\n",
        "    prereq = [0 for _ in range(numCourses)]\n",
        "    for item in prerequisites:\n",
        "        m[item[1]].append(item[0]) # item1->item0\n",
        "        prereq[item[0]] += 1\n",
        "    start = []\n",
        "    visited = [False for _ in range(numCourses)]\n",
        "    for i in range(len(prereq)):\n",
        "        if prereq[i] == 0: # no prereq for the class\n",
        "            start.append(i)\n",
        "            visited[i] = True # visit here might not be necessary if it's DAG\n",
        "\n",
        "    n = 0\n",
        "    while start:\n",
        "        top = start.pop()\n",
        "        n += 1\n",
        "        for item in m[top]: # for all class that top is a prereq\n",
        "            prereq[item] -= 1\n",
        "            if prereq[item] == 0 and not visited[item]:\n",
        "                start.append(item)\n",
        "                visited[item] = True\n",
        "    return n == numCourses"
      ],
      "metadata": {
        "id": "IAdgsmWBToZT"
      },
      "execution_count": null,
      "outputs": []
    },
    {
      "cell_type": "markdown",
      "source": [
        "## Hashmap implementation"
      ],
      "metadata": {
        "id": "QLIo5SUaHnFI"
      }
    },
    {
      "cell_type": "code",
      "source": [
        "class ListNode(object):\n",
        "    def __init__(self, key):\n",
        "        self.key = key\n",
        "        self.val = None\n",
        "        self.next = None\n",
        "\n",
        "# double chaining implementation with a linkedlist for each hash_id\n",
        "class MyHashMap:\n",
        "    SIZE = 1000\n",
        "\n",
        "    def __init__(self):\n",
        "        # pre-set hash size\n",
        "        self.hashing = [ListNode(-1) for _ in range(self.SIZE)]\n",
        "\n",
        "    def put(self, key: int, value: int) -> None:\n",
        "        # first compute the hash key to obtain the linkedlist's head\n",
        "        # if using hash table with linear/quadratic probing, then there is no\n",
        "        # linked list but need to shift the key\n",
        "        head = self.hashing[key % self.SIZE]\n",
        "        current = head.next\n",
        "        while current:\n",
        "            # overwrite value for existing key\n",
        "            if current.key == key: break\n",
        "            current = current.next\n",
        "        else:\n",
        "            # append a new key\n",
        "            current = ListNode(key)\n",
        "            current.next = head.next\n",
        "            head.next = current\n",
        "        current.val = value\n",
        "\n",
        "    def get(self, key: int) -> int:\n",
        "        current = self.hashing[key % self.SIZE].next\n",
        "        while current:\n",
        "            if current.key == key: break\n",
        "            current = current.next\n",
        "        else:\n",
        "            # no such key exist in the linked-list\n",
        "            return -1\n",
        "        return current.val\n",
        "\n",
        "    def remove(self, key: int) -> None:\n",
        "        current = self.hashing[key % self.SIZE]\n",
        "        while current and current.next:\n",
        "            if current.next.key == key: break\n",
        "            # overwrite the link\n",
        "            current = current.next\n",
        "        else:\n",
        "            # else block is reached after while loop is exhausted and break\n",
        "            # condition is not reached\n",
        "            return None\n",
        "        # reach here means break is triggered and next key is the key to remove\n",
        "        current.next = current.next.next"
      ],
      "metadata": {
        "id": "QylfAlP_HpKn"
      },
      "execution_count": null,
      "outputs": []
    },
    {
      "cell_type": "markdown",
      "source": [
        "## Greedy Approach"
      ],
      "metadata": {
        "id": "RTrLrbfQUFpv"
      }
    },
    {
      "cell_type": "code",
      "source": [
        "# jump games\n",
        "def canJump(self, nums: List[int]) -> bool:\n",
        "    n = len(nums)\n",
        "    end = nums[0]\n",
        "    for i in range(n):\n",
        "        if i <= end:\n",
        "            # always jump when we can\n",
        "            end = max(i+nums[i], end)\n",
        "    if end >= n-1:\n",
        "        return True\n",
        "    else:\n",
        "        return False\n",
        "\n",
        "# jump game II, compute number of jump to reach end, if reachable\n",
        "# O(N^2) for DP approach\n",
        "def jump(self, nums: List[int]) -> int:\n",
        "    n = len(nums)\n",
        "    dp = [float('inf') for _ in range(n)]\n",
        "    dp[0] = 0\n",
        "    for i in range(n):\n",
        "        # we update the jumps from current location i\n",
        "        if dp[i] != float('inf'):\n",
        "            # we can reach ith position\n",
        "            for j in range(i+1, min(i+nums[i]+1, n)):\n",
        "                dp[j] = min(dp[j], dp[i]+1)\n",
        "                if j == n-1:\n",
        "                    return dp[j]\n",
        "    return dp[-1]\n",
        "# O(N) with greedy approach\n",
        "def jump(self, nums: List[int]) -> int:\n",
        "    n = len(nums)\n",
        "    if n == 1: return 0\n",
        "    region = (0, nums[0], 1) # tracks the range and the minimum jumps\n",
        "    if nums[0] >= n-1: return 1\n",
        "    idx = 0\n",
        "    while 1:\n",
        "        right = 0\n",
        "        for i in range(region[0], min(n,region[1]+1)):\n",
        "            right = max(right, i+nums[i])\n",
        "            if right >= n-1:\n",
        "                # we can already reach the end\n",
        "                return region[2]+1\n",
        "        # we have the right bound for the jump now\n",
        "        left = region[1]+1\n",
        "        region = (left, right, region[2]+1)"
      ],
      "metadata": {
        "id": "BLXa-Y6QUXN4"
      },
      "execution_count": null,
      "outputs": []
    },
    {
      "cell_type": "markdown",
      "source": [
        "## Dynamic Programming"
      ],
      "metadata": {
        "id": "qJdW0HpMbTYn"
      }
    },
    {
      "cell_type": "markdown",
      "source": [
        "### KnapSack Kind of Problem"
      ],
      "metadata": {
        "id": "8kpRWESJbXTd"
      }
    },
    {
      "cell_type": "code",
      "source": [
        "# recursive approach\n",
        "def knapSack(W, wt, val, n):\n",
        "\n",
        "    # Base Case\n",
        "    if n == 0 or W == 0 :\n",
        "        return 0\n",
        "\n",
        "    # If weight of the nth item is\n",
        "    # more than Knapsack of capacity W,\n",
        "    # then this item cannot be included\n",
        "    # in the optimal solution\n",
        "    if (wt[n-1] > W):\n",
        "        return knapSack(W, wt, val, n-1)\n",
        "\n",
        "    # return the maximum of two cases:\n",
        "    # (1) nth item included\n",
        "    # (2) not included\n",
        "    else:\n",
        "        return max(\n",
        "            val[n-1] + knapSack(\n",
        "                W-wt[n-1], wt, val, n-1),\n",
        "                knapSack(W, wt, val, n-1))\n",
        "# iterative approach\n",
        "def knapSack(W, wt, val, n):\n",
        "  K = [[0 for x in range(W + 1)] for x in range(n + 1)]\n",
        "  # Build table K[][] in bottom up manner\n",
        "  for i in range(n + 1):\n",
        "      for w in range(W + 1):\n",
        "          if i == 0 or w == 0:\n",
        "              K[i][w] = 0\n",
        "          elif wt[i-1] <= w:\n",
        "              K[i][w] = max(val[i-1]\n",
        "                  + K[i-1][w-wt[i-1]],  K[i-1][w])\n",
        "          else:\n",
        "              # same as prev's maximum value because wt[i-1] is too heavy\n",
        "              K[i][w] = K[i-1][w]\n",
        "\n",
        "  return K[n][W]"
      ],
      "metadata": {
        "id": "sl0NdZ6VbVgO"
      },
      "execution_count": null,
      "outputs": []
    },
    {
      "cell_type": "code",
      "source": [
        "# unbounded knapsack. We can use pkg as many times as we want\n",
        "def unboundedKnapsack(W, n, val, wt):\n",
        "\n",
        "    # dp[i] is going to store maximum\n",
        "    # value with knapsack capacity i.\n",
        "    dp = [0 for i in range(W + 1)]\n",
        "    ans = 0\n",
        "    # Fill dp[] using above recursive formula\n",
        "    for i in range(W + 1):\n",
        "        for j in range(n):\n",
        "            if (wt[j] <= i): # as long as weight is smaller than capacity we can reuse it\n",
        "                dp[i] = max(dp[i], dp[i - wt[j]] + val[j])"
      ],
      "metadata": {
        "id": "CMxBrSj8fOUh"
      },
      "execution_count": null,
      "outputs": []
    },
    {
      "cell_type": "code",
      "source": [
        "# coin change\n",
        "def change(self, amount: int, coins: List[int]) -> int:\n",
        "    dp = [[0]*(amount+1) for i in range(len(coins)+1)]\n",
        "    dp[0][0] = 1\n",
        "    for i in range(1, len(dp)): # i decides which coin is available\n",
        "        for j in range(len(dp[0])): # j decides the amount we want to achieve\n",
        "            # exclude current coin\n",
        "            dp[i][j] = dp[i-1][j]\n",
        "            if j - coins[i-1] >= 0:\n",
        "                # we have enough space to add this coin\n",
        "                # then we check how many coins are needed for the complement of sum\n",
        "                dp[i][j] += dp[i][j - coins[i-1]]\n",
        "    return dp[-1][-1]\n",
        "\n",
        "# this question ask the *min* amount of coin needed to reach the sum, exact same structure as unbounded knapsack\n",
        "def coinChange(self, coins: List[int], amount: int) -> int:\n",
        "    dp = [[float('inf')]*(amount+1) for i in range(len(coins)+1)]\n",
        "    dp[0][0] = 0\n",
        "    for i in range(1, len(dp)):\n",
        "        for j in range(len(dp[0])):\n",
        "            if j - coins[i-1] >= 0:\n",
        "                # amount larger than current coin, always try to use current coin\n",
        "                dp[i][j] = min(1+dp[i][j-coins[i-1]], dp[i-1][j])\n",
        "            else:\n",
        "                # use the previous coins\n",
        "                dp[i][j] = dp[i-1][j]\n",
        "    return dp[-1][-1] if dp[-1][-1] < float('inf') else -1"
      ],
      "metadata": {
        "id": "x4dqv6vRgBwC"
      },
      "execution_count": null,
      "outputs": []
    },
    {
      "cell_type": "markdown",
      "source": [
        "### Subsequence\n",
        "- Longest Palindromic Subsequence\n",
        "- Longest Palindromic Substring\n",
        "- Count Palindromic Substring\n",
        "- Palindrome Partitioning"
      ],
      "metadata": {
        "id": "K7uxzyA9kmLp"
      }
    },
    {
      "cell_type": "code",
      "source": [
        "# we move two pointer from start and end position of the string\n",
        "def longestPalindromeSubseq(self, s: str) -> int:\n",
        "    n = len(s)\n",
        "    dp = [[0]*n for _ in range(n)]\n",
        "    for i in range(n):\n",
        "        dp[i][i] = 1 # diagonal is always len=1\n",
        "    # i is start index, j is end index for our subsequence\n",
        "    for i in range(n-2,-1,-1):\n",
        "        for j in range(1, n):\n",
        "            if i >= j:\n",
        "                continue\n",
        "            else:\n",
        "                # start index < end index\n",
        "                if s[i] == s[j]:\n",
        "                    # include both start and end\n",
        "                    dp[i][j] = dp[i+1][j-1] + 2\n",
        "                else:\n",
        "                    # keep the longest in start+1->end or start->end-1\n",
        "                    dp[i][j] = max(dp[i+1][j], dp[i][j-1])\n",
        "    return dp[0][-1]"
      ],
      "metadata": {
        "id": "TRBSHQ5dk0X6"
      },
      "execution_count": null,
      "outputs": []
    },
    {
      "cell_type": "markdown",
      "source": [
        "### Longest Common Subsequence & Substring"
      ],
      "metadata": {
        "id": "0hELbhwflOLa"
      }
    },
    {
      "cell_type": "code",
      "source": [
        "# move from bottom right to upper left to match the subsequence\n",
        "def longestCommonSubsequence(text1: str, text2: str) -> int:\n",
        "    row = len(text1)+1\n",
        "    col = len(text2)+1\n",
        "    dp = [[0]*col for _ in range(row)]\n",
        "    for i in range(row-2, -1, -1):\n",
        "        for j in range(col-2, -1, -1):\n",
        "            if text1[i] == text2[j]:\n",
        "                # add this element to subsequence\n",
        "                dp[i][j] = 1 + dp[i+1][j+1]\n",
        "            else:\n",
        "                # use the max between two index range\n",
        "                dp[i][j] = max(dp[i][j+1], dp[i+1][j])\n",
        "    for item in dp:\n",
        "        print(item)\n",
        "    return dp[0][0]\n",
        "s1 = 'helloworld'\n",
        "s2 = 'hilmohord'\n",
        "longestCommonSubsequence(s1, s2)"
      ],
      "metadata": {
        "colab": {
          "base_uri": "https://localhost:8080/"
        },
        "id": "Ix8wJgWrlQoP",
        "outputId": "6e789417-6561-4436-f58e-6e612cddecdf"
      },
      "execution_count": null,
      "outputs": [
        {
          "output_type": "stream",
          "name": "stdout",
          "text": [
            "[6, 5, 5, 4, 4, 4, 3, 2, 1, 0]\n",
            "[5, 5, 5, 4, 4, 3, 3, 2, 1, 0]\n",
            "[5, 5, 5, 4, 4, 3, 3, 2, 1, 0]\n",
            "[5, 5, 5, 4, 4, 3, 3, 2, 1, 0]\n",
            "[4, 4, 4, 4, 4, 3, 3, 2, 1, 0]\n",
            "[3, 3, 3, 3, 3, 3, 3, 2, 1, 0]\n",
            "[3, 3, 3, 3, 3, 3, 3, 2, 1, 0]\n",
            "[2, 2, 2, 2, 2, 2, 2, 2, 1, 0]\n",
            "[2, 2, 2, 1, 1, 1, 1, 1, 1, 0]\n",
            "[1, 1, 1, 1, 1, 1, 1, 1, 1, 0]\n",
            "[0, 0, 0, 0, 0, 0, 0, 0, 0, 0]\n"
          ]
        },
        {
          "output_type": "execute_result",
          "data": {
            "text/plain": [
              "6"
            ]
          },
          "metadata": {},
          "execution_count": 3
        }
      ]
    },
    {
      "cell_type": "code",
      "source": [
        "# Longest common substring\n",
        "def findLength(self, A: List[int], B: List[int]) -> int:\n",
        "    row = len(A) + 1\n",
        "    col = len(B) + 1\n",
        "    dp = [[0]* col for i in range(row)]\n",
        "    maxlen = 0\n",
        "    for i in range(row-2,-1,-1):\n",
        "        for j in range(col-2, -1, -1):\n",
        "            if A[i] == B[j]:\n",
        "                # add 1 to common prefix\n",
        "                dp[i][j] = 1+dp[i+1][j+1]\n",
        "                if dp[i][j] > maxlen:\n",
        "                    maxlen =dp[i][j]\n",
        "    return maxlen"
      ],
      "metadata": {
        "id": "swzE5pluly0I"
      },
      "execution_count": null,
      "outputs": []
    },
    {
      "cell_type": "code",
      "source": [
        "# classical edit distance\n",
        "def minDistance(self, word1: str, word2: str) -> int:\n",
        "    row = len(word1) + 1\n",
        "    col = len(word2) + 1\n",
        "    dp = [[0]*col for _ in range(row)]\n",
        "    for i in range(row):\n",
        "        dp[i][0] = i\n",
        "    for i in range(col):\n",
        "        dp[0][i] = i\n",
        "    for i in range(1, row):\n",
        "        for j in range(1, col):\n",
        "            # check the index at two word\n",
        "            if word1[i-1] == word2[j-1]:\n",
        "                # same word, we can add without any extra operation\n",
        "                dp[i][j] = dp[i-1][j-1]\n",
        "            else:\n",
        "                # three alternatives, we either delete char from i or j, or replace the char\n",
        "                dp[i][j] = min(min(dp[i-1][j], dp[i][j-1]), dp[i-1][j-1]) + 1\n",
        "    return dp[-1][-1]\n"
      ],
      "metadata": {
        "id": "rX1NI4cLvxG-"
      },
      "execution_count": null,
      "outputs": []
    },
    {
      "cell_type": "markdown",
      "source": [
        "## Backtrack"
      ],
      "metadata": {
        "id": "66OYAEJKrKzV"
      }
    },
    {
      "cell_type": "code",
      "source": [
        "# subset\n",
        "def subsets(nums):\n",
        "    output = []\n",
        "    backtrack(nums, [], output)\n",
        "    return output\n",
        "\n",
        "def backtrack(nums, temp, output):\n",
        "    output.append(temp)\n",
        "    for i in range(len(nums)):\n",
        "        temp.append(nums[i])\n",
        "        backtrack(nums[i+1:], temp[:], output) # temp[:] is copying everything\n",
        "        temp.pop()\n",
        "\n",
        "x = [1,2,3]\n",
        "subsets(x)"
      ],
      "metadata": {
        "colab": {
          "base_uri": "https://localhost:8080/"
        },
        "id": "IA2T-cd4rMaq",
        "outputId": "70465519-ad67-4e61-c2cb-3716ad018fac"
      },
      "execution_count": null,
      "outputs": [
        {
          "output_type": "execute_result",
          "data": {
            "text/plain": [
              "[[], [1], [1, 2], [1, 2, 3], [1, 3], [2], [2, 3], [3]]"
            ]
          },
          "metadata": {},
          "execution_count": 2
        }
      ]
    },
    {
      "cell_type": "code",
      "source": [
        "# permutation\n",
        "def permute(nums):\n",
        "    output = []\n",
        "    backtrack(nums, [], output)\n",
        "    return output\n",
        "\n",
        "def backtrack(nums, temp, output):\n",
        "    if len(temp) == len(nums):\n",
        "        output.append(temp)\n",
        "        return\n",
        "\n",
        "    for i in range(len(nums)):\n",
        "        if nums[i] in temp:\n",
        "            continue\n",
        "        temp.append(nums[i])\n",
        "        backtrack(nums, temp[:], output) # key difference is that we allow it to see all elements of the number again\n",
        "        temp.pop()\n",
        "\n",
        "x = [1,2,3]\n",
        "permute(x)"
      ],
      "metadata": {
        "colab": {
          "base_uri": "https://localhost:8080/"
        },
        "id": "BRVDSWw01ITJ",
        "outputId": "68017e04-5832-4694-f547-04467fba1d59"
      },
      "execution_count": null,
      "outputs": [
        {
          "output_type": "execute_result",
          "data": {
            "text/plain": [
              "[[1, 2, 3], [1, 3, 2], [2, 1, 3], [2, 3, 1], [3, 1, 2], [3, 2, 1]]"
            ]
          },
          "metadata": {},
          "execution_count": 3
        }
      ]
    },
    {
      "cell_type": "code",
      "source": [
        "# combination\n",
        "def combinationSum(candidates, target):\n",
        "    output = []\n",
        "    backtrack([], 0, candidates, target, output)\n",
        "    return output\n",
        "\n",
        "def backtrack(temp, start, candidates, left, output):\n",
        "    if left == 0:\n",
        "        output.append(temp)\n",
        "        return\n",
        "    elif left < 0:\n",
        "        return\n",
        "    else:\n",
        "        for i in range(start, len(candidates)):\n",
        "            temp.append(candidates[i])\n",
        "            # use leftover-candidate like how dp/dfs normally approach this\n",
        "            # start index is memorized so we never go backward to find combination\n",
        "            # current index i is still kept because we can reuse it\n",
        "            backtrack(temp[:], i, candidates, left-candidates[i], output)\n",
        "            temp.pop()\n",
        "\n",
        "x = [1,2,3,4,5]\n",
        "tgt = 6\n",
        "combinationSum(x, tgt)"
      ],
      "metadata": {
        "colab": {
          "base_uri": "https://localhost:8080/"
        },
        "id": "MxNUoLYn2Kjk",
        "outputId": "c8d6c4e1-9b30-4701-af23-4ad1f2145658"
      },
      "execution_count": null,
      "outputs": [
        {
          "output_type": "execute_result",
          "data": {
            "text/plain": [
              "[[1, 1, 1, 1, 1, 1],\n",
              " [1, 1, 1, 1, 2],\n",
              " [1, 1, 1, 3],\n",
              " [1, 1, 2, 2],\n",
              " [1, 1, 4],\n",
              " [1, 2, 3],\n",
              " [1, 5],\n",
              " [2, 2, 2],\n",
              " [2, 4],\n",
              " [3, 3]]"
            ]
          },
          "metadata": {},
          "execution_count": 4
        }
      ]
    },
    {
      "cell_type": "markdown",
      "source": [
        "## Merge Interval and Heap"
      ],
      "metadata": {
        "id": "Vph1rtKa4L4W"
      }
    },
    {
      "cell_type": "code",
      "source": [
        "import heapq\n",
        "def minMeetingRooms(intervals):\n",
        "    if not intervals:\n",
        "        return 0\n",
        "\n",
        "    # The heap initialization\n",
        "    free_rooms = []\n",
        "    # Sort the meetings in increasing order of their start time.\n",
        "    intervals.sort(key= lambda x: x[0])\n",
        "    # Add the first meeting. We have to give a new room to the first meeting.\n",
        "    heapq.heappush(free_rooms, intervals[0][1])\n",
        "    # For all the remaining meeting rooms\n",
        "    for i in intervals[1:]:\n",
        "        # If the room due to free up the earliest is free, assign that room to this meeting.\n",
        "        if free_rooms[0] <= i[0]:\n",
        "            heapq.heappop(free_rooms)\n",
        "        # If a new room is to be assigned, then also we add to the heap,\n",
        "        # If an old room is allocated, then also we have to add to the heap with updated end time.\n",
        "        heapq.heappush(free_rooms, i[1])\n",
        "    # The size of the heap tells us the minimum rooms required for all the meetings.\n",
        "    return len(free_rooms)\n",
        "\n",
        "x = [[1,3], [2,4], [3,10], [3,7], [6,9]]\n",
        "minMeetingRooms(x)"
      ],
      "metadata": {
        "colab": {
          "base_uri": "https://localhost:8080/"
        },
        "id": "Or6F20ab4TdY",
        "outputId": "88f7bfdb-c662-4be3-90d3-c1ee5425f882"
      },
      "execution_count": null,
      "outputs": [
        {
          "output_type": "execute_result",
          "data": {
            "text/plain": [
              "3"
            ]
          },
          "metadata": {},
          "execution_count": 1
        }
      ]
    },
    {
      "cell_type": "code",
      "source": [
        "# top k element with counter\n",
        "from collections import Counter\n",
        "def topKFrequent(nums, k: int):\n",
        "    # use a min-heap of size k to maintain the numbers\n",
        "    count = Counter(nums)\n",
        "    return sorted(count.keys(), key= lambda x: count[x], reverse=True)[:k]\n",
        "topKFrequent([1,2,3,12,23,2,1,4,5,6,7,23,4,31,2,1,1,1],5)"
      ],
      "metadata": {
        "colab": {
          "base_uri": "https://localhost:8080/"
        },
        "id": "hxlFU_m88Rue",
        "outputId": "2ffa32a3-b4ae-4a3f-87e7-9ca7733bc82e"
      },
      "execution_count": null,
      "outputs": [
        {
          "output_type": "execute_result",
          "data": {
            "text/plain": [
              "[1, 2, 23, 4, 3]"
            ]
          },
          "metadata": {},
          "execution_count": 9
        }
      ]
    },
    {
      "cell_type": "code",
      "source": [
        "# median from data stream\n",
        "# O(logN) for adding each number O(1) for lookup\n",
        "from heapq import heappush, heapify, heappop, heappushpop\n",
        "class MedianFinder:\n",
        "    def __init__(self):\n",
        "        self.minheap = []\n",
        "        self.maxheap = []\n",
        "\n",
        "    def addNum(self, num: int) -> None:\n",
        "        # we first add into maxheap and move to minheap\n",
        "        # the value pop out of maxheap is its smallest number\n",
        "        heappush(self.minheap, -heappushpop(self.maxheap, num))\n",
        "        if len(self.minheap) > len(self.maxheap):\n",
        "            heappush(self.maxheap, -heappop(self.minheap))\n",
        "\n",
        "    def findMedian(self) -> float:\n",
        "        if len(self.maxheap) == len(self.minheap):\n",
        "            # take avg of the two\n",
        "            return float(self.maxheap[0] - self.minheap[0])/2\n",
        "        else:\n",
        "            return self.maxheap[0]\n",
        "mf = MedianFinder()\n",
        "mf.addNum(1)\n",
        "mf.addNum(2)\n",
        "mf.addNum(5)\n",
        "mf.addNum(3)\n",
        "mf.addNum(0)\n",
        "mf.findMedian()"
      ],
      "metadata": {
        "id": "nIFUCx7s82CS",
        "colab": {
          "base_uri": "https://localhost:8080/"
        },
        "outputId": "53504d7a-c419-46f3-c8e3-f7a6dfa3b146"
      },
      "execution_count": null,
      "outputs": [
        {
          "output_type": "execute_result",
          "data": {
            "text/plain": [
              "2"
            ]
          },
          "metadata": {},
          "execution_count": 4
        }
      ]
    },
    {
      "cell_type": "code",
      "source": [
        "# python heap operations\n",
        "from heapq import heappush, heapify, heappop, heappushpop\n",
        "hp = []\n",
        "heappush(hp, 1)\n",
        "heappush(hp, 2)\n",
        "top = heappop(hp)\n",
        "print(top) # top is 1, by default python use minHeap"
      ],
      "metadata": {
        "colab": {
          "base_uri": "https://localhost:8080/"
        },
        "id": "aeupMa_z_AgA",
        "outputId": "0078e102-1a1e-461c-b861-b2c5c496d363"
      },
      "execution_count": null,
      "outputs": [
        {
          "output_type": "stream",
          "name": "stdout",
          "text": [
            "1\n"
          ]
        }
      ]
    },
    {
      "cell_type": "code",
      "source": [
        "def t(self, k: int, W: int, Profits: List[int], Capital: List[int]) -> int:\n",
        "    profit = W\n",
        "    self.min = []\n",
        "    self.max = []\n",
        "\n",
        "    for c, p in zip(Capital, Profits):\n",
        "        heapq.heappush(self.min, (c, p))\n",
        "\n",
        "    for _ in range(k):\n",
        "        # greedy approach, as long as capital smaller than profit we always do it\n",
        "        while len(self.min) and self.min[0][0]<=profit:\n",
        "            c, p = heapq.heappop(self.min)\n",
        "            heapq.heappush(self.max, (-p, c))\n",
        "\n",
        "        if len(self.max):\n",
        "            p, c = heapq.heappop(self.max)\n",
        "            profit += (-p)\n",
        "\n",
        "    return profit"
      ],
      "metadata": {
        "id": "45YBbEW-CBZS"
      },
      "execution_count": null,
      "outputs": []
    }
  ]
}